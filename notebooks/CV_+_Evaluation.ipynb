{
  "nbformat": 4,
  "nbformat_minor": 0,
  "metadata": {
    "colab": {
      "name": "CV + Evaluation.ipynb",
      "provenance": []
    },
    "kernelspec": {
      "name": "python3",
      "display_name": "Python 3"
    },
    "language_info": {
      "name": "python"
    },
    "accelerator": "GPU"
  },
  "cells": [
    {
      "cell_type": "markdown",
      "metadata": {
        "id": "XtqBu9p17D2j"
      },
      "source": [
        "# Training the final model\n",
        "\n",
        "This notebook is supplementary material to the project here, which aims to re-implement the Hubble.2d6 tool to predict the function of CYP2D6 star alleles.\n",
        "\n",
        "Within this notebook, the final model in the sequence outlined in the paper is trained using transfer learning. Weights from the first step are loaded into the new model. The fully-connected layers of the first model are replaced with new, randomly initialised layers and trained on 31 star alleles and their respective suballeles.\n",
        "\n",
        "Please keep in mind that this implementation is incomplete due to the lack of resources to compute robust annotation embeddings of all variants for all star alleles.\n",
        "\n",
        "Additionally, in the paper, this model is supposed to instead have its weights - along with weights of one of the fully-connected layers - loaded in from the second model in the sequence. However, due to data availability, I was unable to reproduce the implementation of the second model and instead chose to transfer just the convolution layers' weights to the final model from the first model that was trained on simulated data."
      ]
    },
    {
      "cell_type": "markdown",
      "metadata": {
        "id": "z8a-EgmE8R4T"
      },
      "source": [
        "## Getting ready\n",
        "\n",
        "**Acknowledgements**: Pre-computed annotation embeddings used are form the original Hubble.2d6 repo: https://github.com/gregmcinnes/Hubble2D6/tree/master/data"
      ]
    },
    {
      "cell_type": "code",
      "metadata": {
        "id": "kMaqb2OooOXz"
      },
      "source": [
        "import tensorflow as tf\n",
        "import pandas as pd\n",
        "import numpy as np\n",
        "from sklearn.model_selection import train_test_split"
      ],
      "execution_count": 23,
      "outputs": []
    },
    {
      "cell_type": "code",
      "metadata": {
        "id": "dcVVyrq6uMF_"
      },
      "source": [
        "np.random.seed(1337)"
      ],
      "execution_count": 24,
      "outputs": []
    },
    {
      "cell_type": "code",
      "metadata": {
        "colab": {
          "base_uri": "https://localhost:8080/"
        },
        "id": "IaZ5UF2MoTfj",
        "outputId": "6d180617-7661-4de7-9f9d-0c93735e762c"
      },
      "source": [
        "!git clone https://github.com/Locrian24/seng474-term-project.git\n",
        "!cd seng474-term-project/ && git pull"
      ],
      "execution_count": 25,
      "outputs": [
        {
          "output_type": "stream",
          "text": [
            "fatal: destination path 'seng474-term-project' already exists and is not an empty directory.\n",
            "Already up to date.\n"
          ],
          "name": "stdout"
        }
      ]
    },
    {
      "cell_type": "code",
      "metadata": {
        "id": "0GWlFbEPofie"
      },
      "source": [
        "import sys\n",
        "sys.path.insert(0, '/content/seng474-term-project/model')"
      ],
      "execution_count": 26,
      "outputs": []
    },
    {
      "cell_type": "code",
      "metadata": {
        "id": "nhQWl42Uf99z"
      },
      "source": [
        "device_name = tf.test.gpu_device_name()\n",
        "if device_name == '':\n",
        "  print(\"If you are running the cross-validation below, please make sure to put on the GPU Runtime\")"
      ],
      "execution_count": 27,
      "outputs": []
    },
    {
      "cell_type": "markdown",
      "metadata": {
        "id": "cGj8AD838tOw"
      },
      "source": [
        "## Preparing the data\n",
        "\n",
        "The vcf file of the star alleles used were provided from the paper and can be found **here**. "
      ]
    },
    {
      "cell_type": "markdown",
      "metadata": {
        "id": "N78uh8bB819L"
      },
      "source": [
        "### Encoding method\n",
        "\n",
        "The script `build_label_csv.py` was run on this vcf file to output the label csv that will be used for training.\n",
        "\n",
        "Labels for the data correspond to the ordinal classes describing the function of each CYP2D6 star allele and their respective suballeles: \"No function\", \"Decreased function\", and \"Normal function\".\n",
        "\n",
        "The model however is required to output two scores, representing the probability of a star allele being \"No function\" and \"Normal function\" respectively, and therefore a binary scoring system is used to encode the 3 function classes into these two scores. \n",
        "\n",
        "The scoring system is as follows:\n",
        "- \"No function\" alleles are indicated with a 0 as the first score, with all other functions being denoted with a 1\n",
        "- \"Normal function\" alleles are indicated with a 1 as the second score, with all other functions being denoted with a 0.\n",
        "\n",
        "This yields the following encodings:\n",
        "- \"No function\" = `[0, 0]`\n",
        "- \"Decreased function\" = `[0, 1]`\n",
        "- \"Normal function\" = `[1, 1]`\n",
        "\n",
        "**Note**: Star alleles with uncurated function have an empty label (`[None, None]`). \n",
        "\n",
        "_Sequence encodings are done exactly the same as in step 1_"
      ]
    },
    {
      "cell_type": "code",
      "metadata": {
        "id": "laWNZhUIo2Bl"
      },
      "source": [
        "from encode_to_seq import Encode2Seq\n",
        "\n",
        "# Global variables rn for testing\n",
        "\n",
        "ANNOTATIONS = '/content/seng474-term-project/data/gvcf2seq.annotation_embeddings.csv'\n",
        "EMBEDDINGS = '/content/seng474-term-project/data/embeddings.txt'\n",
        "REF = '/content/seng474-term-project/data/ref.seq'\n",
        "\n",
        "VCF = '/content/seng474-term-project/step3/data/star_samples.vcf'\n",
        "LABELS = '/content/seng474-term-project/step3/data/labels.csv'\n",
        "\n",
        "encoding = Encode2Seq(vcf=VCF, labels=LABELS, label_cols=[0, 1, 2], embedding_file=EMBEDDINGS, annotation_file=ANNOTATIONS, ref_seq=REF)"
      ],
      "execution_count": 28,
      "outputs": []
    },
    {
      "cell_type": "markdown",
      "metadata": {
        "id": "xFolDssq-wRu"
      },
      "source": [
        "### Seperation of data sets\n",
        "\n",
        "The paper indicates that they used 31 star alleles and their suballeles as training data, and 24 alleles to compose the test data. Additionally, 10% of the each functional class (\"No function\", \"Decreased function\", and \"Normal function\") were held out for validation during training.\n",
        "\n",
        "All star alleles with \"Uncurated function\" were ignored, and held from training/testing for obvious reasons."
      ]
    },
    {
      "cell_type": "code",
      "metadata": {
        "id": "cfQ9jyQMp_ca"
      },
      "source": [
        "# Select only star alleles with curated function\n",
        "\n",
        "mask = np.all(np.isnan(encoding.y) == False, axis=1)\n",
        "\n",
        "sample_y = encoding.y[mask]\n",
        "sample_X = encoding.X[mask.reshape(-1, 1).any(axis=1)]\n",
        "sample_names = encoding.sample_names[mask]"
      ],
      "execution_count": 29,
      "outputs": []
    },
    {
      "cell_type": "code",
      "metadata": {
        "id": "fzIJzGV8s8G3"
      },
      "source": [
        "# Get valid stars\n",
        "all_stars = np.array([s.split('_')[1] for s in sample_names])\n",
        "stars, idx = np.unique(all_stars, return_index=True)\n",
        "\n",
        "# Choose which stars are training and which are test: (31, 24) split\n",
        "# Should be stratified with labels\n",
        "train_idx, test_idx = train_test_split(idx, stratify=sample_y[idx], test_size=24, random_state=1)\n",
        "\n",
        "# Retrieve indices of training and test stars\n",
        "sample_mask = np.isin(all_stars, all_stars[train_idx])\n",
        "\n",
        "test_stars = np.array([s for s in sample_names[~sample_mask] if s.split('_')[-1] == '001'])\n",
        "test_mask = np.isin(sample_names, test_stars)\n",
        "\n",
        "train_stars = np.array([s for s in sample_names[sample_mask] if s.split('_')[-1] == '001'])\n",
        "train_mask = np.isin(sample_names, train_stars)\n",
        "\n",
        "# Split the data into the two sets - INCLUDING SUBALLES ON BOTH\n",
        "_train_X, test_X = sample_X[sample_mask], sample_X[~sample_mask]\n",
        "_train_y, test_y = sample_y[sample_mask], sample_y[~sample_mask]\n",
        "\n",
        "# Purely for evaluation (paper looks at star allele accuracy rather than star + suballeles)\n",
        "star_train_X, star_test_X = sample_X[train_mask], sample_X[test_mask]\n",
        "star_train_y, star_test_y = sample_y[train_mask], sample_y[test_mask]"
      ],
      "execution_count": 30,
      "outputs": []
    },
    {
      "cell_type": "code",
      "metadata": {
        "id": "uAUG1QZQootJ"
      },
      "source": [
        "# Uncurated star alleles\n",
        "\n",
        "uncurated_samples = encoding.sample_names[~mask]\n",
        "uncurated_stars = np.array([s for s in uncurated_samples if s.split('_')[-1] == '001'])\n",
        "uncurated_star_mask = np.isin(uncurated_samples, uncurated_stars)\n",
        "\n",
        "uncurated_samples = uncurated_samples[uncurated_star_mask]\n",
        "uncurated_X = encoding.X[(~mask).reshape(-1, 1).any(axis=1)]\n",
        "uncurated_X = uncurated_X[uncurated_star_mask]"
      ],
      "execution_count": 31,
      "outputs": []
    },
    {
      "cell_type": "markdown",
      "metadata": {
        "id": "kpx-XJedAIRj"
      },
      "source": [
        "### Prepare data for the model"
      ]
    },
    {
      "cell_type": "code",
      "metadata": {
        "id": "ysEE5cl2AG6O"
      },
      "source": [
        "_train_ds = tf.data.Dataset.from_tensor_slices((_train_X, _train_y))\n",
        "train_ds = _train_ds.shuffle(_train_X.shape[0], reshuffle_each_iteration=True).repeat().batch(32).prefetch(buffer_size=10)\n",
        "\n",
        "_test_ds = tf.data.Dataset.from_tensors((test_X, test_y))\n",
        "test_ds = _test_ds.prefetch(buffer_size=10)"
      ],
      "execution_count": 32,
      "outputs": []
    },
    {
      "cell_type": "markdown",
      "metadata": {
        "id": "mcKwYCgH6WN5"
      },
      "source": [
        "## Building the final model\n",
        "\n",
        "As stated earlier, the model is loaded from the generated model from step 1, and also inherits its learned weights."
      ]
    },
    {
      "cell_type": "code",
      "metadata": {
        "id": "tFFfrnMRMzDz"
      },
      "source": [
        "epochs = 6\n",
        "fine_tune_epochs = 2\n",
        "steps_per_epoch = 128\n",
        "steps_per_epoch_ft = 64\n",
        "lr = 0.001\n",
        "lr_ft = 1e-5\n",
        "\n",
        "def build_and_fit(train_dataset, val_dataset=None):\n",
        "  json_file = open('/content/seng474-term-project/step_1/model.json', 'r')\n",
        "  loaded_model = json_file.read()\n",
        "  model = tf.keras.models.model_from_json(loaded_model)\n",
        "  model.load_weights('/content/seng474-term-project/step_1/weights.h5')\n",
        "  \n",
        "  # Remove fully connected layers\n",
        "  model.pop()\n",
        "  model.pop()\n",
        "  model.pop()\n",
        "  model.trainable = False\n",
        "\n",
        "  # Build final model\n",
        "  inputs = tf.keras.Input(shape=(14868, 13))\n",
        "  x = model(inputs, training=False)\n",
        "  x = tf.keras.layers.Dense(32, activation=tf.keras.activations.relu, kernel_initializer=tf.keras.initializers.VarianceScaling(mode='fan_avg', distribution='uniform'), name = \"dense_5\")(x)\n",
        "  x = tf.keras.layers.Dropout(rate=0.03, name=\"dropout_4\")(x)\n",
        "  x = tf.keras.layers.Dense(1, activation=tf.keras.activations.linear, kernel_initializer=tf.keras.initializers.VarianceScaling(mode='fan_avg', distribution='uniform'), name = \"dense_6\")(x)\n",
        "  outputs = tf.keras.layers.Dense(2, activation=tf.keras.activations.sigmoid, kernel_initializer=tf.keras.initializers.VarianceScaling(mode='fan_avg', distribution='uniform'), name = \"final_dense\")(x)\n",
        "  final_model = tf.keras.Model(inputs, outputs)\n",
        "\n",
        "  if val_dataset is None:\n",
        "    with tf.device('/device:GPU:0'):\n",
        "      # Initial training\n",
        "      final_model.compile(\n",
        "        optimizer=tf.keras.optimizers.Adam(lr),\n",
        "        loss=tf.keras.losses.BinaryCrossentropy(),\n",
        "        metrics=[tf.keras.metrics.AUC()]\n",
        "      )\n",
        "\n",
        "      final_model.fit(train_dataset, epochs=epochs, steps_per_epoch=steps_per_epoch, verbose=True)\n",
        "\n",
        "      # Fine tuning\n",
        "      model.trainable = True\n",
        "      final_model.compile(\n",
        "          optimizer=tf.keras.optimizers.SGD(1e-5, momentum=0.8, nesterov=True),\n",
        "          loss=tf.keras.losses.BinaryCrossentropy(),\n",
        "          metrics=[tf.keras.metrics.AUC()]\n",
        "      )\n",
        "\n",
        "      final_model.fit(train_dataset, epochs=fine_tune_epochs, steps_per_epoch=steps_per_epoch_ft, verbose=True)\n",
        "    \n",
        "  else:\n",
        "    with tf.device('/device:GPU:0'):\n",
        "      # Initial training\n",
        "      final_model.compile(\n",
        "        optimizer=tf.keras.optimizers.Adam(lr),\n",
        "        loss=tf.keras.losses.BinaryCrossentropy(),\n",
        "        metrics=[tf.keras.metrics.AUC()]\n",
        "      )\n",
        "\n",
        "      final_model.fit(train_dataset, epochs=epochs, validation_data=val_dataset, steps_per_epoch=steps_per_epoch, validation_steps=1, verbose=True)\n",
        "\n",
        "      # Fine tuning\n",
        "      model.trainable = True\n",
        "      final_model.compile(\n",
        "          optimizer=tf.keras.optimizers.SGD(1e-5, momentum=0.8, nesterov=True),\n",
        "          loss=tf.keras.losses.BinaryCrossentropy(),\n",
        "          metrics=[tf.keras.metrics.AUC()]\n",
        "      )\n",
        "\n",
        "      final_model.fit(train_dataset, epochs=fine_tune_epochs, validation_data=val_dataset, steps_per_epoch=64, validation_steps=1, verbose=True)\n",
        "  \n",
        "  return final_model"
      ],
      "execution_count": 33,
      "outputs": []
    },
    {
      "cell_type": "markdown",
      "metadata": {
        "id": "kOyYP5sfr0b2"
      },
      "source": [
        "## Setup for the ensemble\n",
        "\n",
        "This step is basically identical to how the final implementation of this project builds the ensemble, with its purpose being here for evaluation purposes. The only difference is it's ability to use other saved models specified elsewhere (used for CV)."
      ]
    },
    {
      "cell_type": "code",
      "metadata": {
        "id": "4nJWnzprsGta"
      },
      "source": [
        "class Ensemble():\n",
        "  def __init__(self, X=None, dir='/content/seng474-term-project/data/ensemble_models/'):\n",
        "    self.X = X\n",
        "    self.raw = None\n",
        "    self.predictions = None\n",
        "    self.dir = dir\n",
        "\n",
        "    self.run()\n",
        "\n",
        "  def run(self):\n",
        "    predictions = self.predict(self.X).mean(axis=0)\n",
        "    self.raw = predictions\n",
        "    self.predictions = self.get_functions(predictions)\n",
        "\n",
        "  def get_functions(self, pred):\n",
        "    cutpoint_1 = 0.4260022\n",
        "    cutpoint_2 = 0.7360413\n",
        "\n",
        "    cut1 = np.greater(pred[:, 0], [cutpoint_1])\n",
        "    cut2 = np.greater(pred[:, 1], [cutpoint_2])\n",
        "\n",
        "    functions = []\n",
        "    for i in range(pred.shape[0]):\n",
        "      if cut1[i] == True and cut2[i] == True:\n",
        "        functions.append(\"Normal\")\n",
        "      elif cut1[i] == True and cut2[i] == False:\n",
        "        functions.append(\"Decreased function\")\n",
        "      else:\n",
        "        functions.append(\"No function\")\n",
        "\n",
        "    return np.array(functions)\n",
        "\n",
        "  def evaluate(self, y):\n",
        "    labels = self.get_functions(y)\n",
        "    return np.sum(labels == self.predictions) / len(y)\n",
        "\n",
        "  def predict(self, X):\n",
        "    from glob import glob\n",
        "    models = glob(self.dir + \"*.model.h5\")\n",
        "    \n",
        "    predictions = []\n",
        "    print(\"Predicting...\")\n",
        "    for m in models:\n",
        "      # print(f\"Predicting using {m}\")\n",
        "      model = tf.keras.models.load_model(m)\n",
        "      \n",
        "      pred = model.predict(X)\n",
        "      predictions.append(pred)\n",
        "\n",
        "    return np.array(predictions)"
      ],
      "execution_count": 34,
      "outputs": []
    },
    {
      "cell_type": "markdown",
      "metadata": {
        "id": "vB7QOKo5vWo9"
      },
      "source": [
        "## Hyperparameter tuning with 5-fold stratified CV\n",
        "\n",
        "Here is the code run to tune hyperparameters, such as batch sizes, learning rates, and even optimisers. This cross-validation was done mainly manually due to the need to mess around with various combinations of optimisers and hyperparameters.\n",
        "\n",
        "The hyperparameters used in this notebook (see above) are the final ones chosen from this method, and reduce overfitting and increase the stability of the model's prediction, at a cost of training accuracy.\n",
        "\n",
        "From this CV, it was clear that this model overfit easily to the point that very high training accuracy led to a sharp decrease in validation accuracy in regard to the labels. As a result, as seen below on the actual model that was trained, we get about 85% accuracy on the training data as opposed to the 100% accuracy achieved by the original paper."
      ]
    },
    {
      "cell_type": "code",
      "metadata": {
        "id": "NmMNmK8vWLmJ"
      },
      "source": [
        "# from sklearn.model_selection import StratifiedShuffleSplit\n",
        "# sss = StratifiedShuffleSplit(n_splits=5, test_size=0.1, random_state=0)\n",
        "# fold = 1\n",
        "\n",
        "# for train_index, val_index in sss.split(_train_X, _train_y):\n",
        "#   train_X, val_X = _train_X[train_index], _train_X[val_index]\n",
        "#   train_y, val_y = _train_y[train_index], _train_y[val_index]\n",
        "\n",
        "#   _train_ds = tf.data.Dataset.from_tensor_slices((train_X, train_y))\n",
        "#   train_ds = _train_ds.shuffle(train_X.shape[0], reshuffle_each_iteration=True).repeat().batch(32).prefetch(buffer_size=10)\n",
        "#   _val_ds = tf.data.Dataset.from_tensors((val_X, val_y))\n",
        "#   val_ds = _val_ds.prefetch(buffer_size=10)\n",
        "\n",
        "#   model = build_and_fit(train_ds, val_ds)\n",
        "#   model.save(f'model_{fold}/ensemble_{i}.model.h5')\n",
        "\n",
        "#   val_ensemble = Ensemble(val_X, dir=f\"/content/model_{fold}/\")\n",
        "#   print(f\"Fold {fold} validation accuracy:\", val_ensemble.evaluate(val_y))\n",
        "\n",
        "#   fold += 1"
      ],
      "execution_count": 35,
      "outputs": []
    },
    {
      "cell_type": "markdown",
      "metadata": {
        "id": "yIx3PaqOx8Hs"
      },
      "source": [
        "_Hyperparameters_:\n",
        "- Batch size: **32**\n",
        "- Epochs: **6**\n",
        "- Fine tuning epochs: **2**\n",
        "- Initial learning rate (Adam): **0.001**\n",
        "- Main training steps_per_epoch: **128**\n",
        "- Fine tuning learning rate (SGD): **0.01, momentum=0.8**\n",
        "- Fine tuning steps_per_epoch: **64**"
      ]
    },
    {
      "cell_type": "markdown",
      "metadata": {
        "id": "rPINycCNcOV4"
      },
      "source": [
        "## Training ensemble models\n",
        "\n",
        "Hubble.2d6 uses an ensemble averaging method for it's final predictions. Here we are training 7 models to use in the ensemble, report the training accuracy of each and save these models for the final tool. Hyperparameters used are ones tuned through the about method.\n",
        "\n",
        "Since the dataset is relatively small, and we have already run CV on validation sets, each model of the ensemble is trained on the entire training set."
      ]
    },
    {
      "cell_type": "code",
      "metadata": {
        "id": "sF3D87O0a4On",
        "colab": {
          "base_uri": "https://localhost:8080/"
        },
        "outputId": "54acc30c-39ed-4c37-e337-491333c09092"
      },
      "source": [
        "ensemble_size = 7\n",
        "\n",
        "for i in range(ensemble_size):\n",
        "  print(f\"ensemble_{i}.model.h5\")\n",
        "  model = build_and_fit(train_ds)\n",
        "\n",
        "  model.save(f'models/ensemble_{i}.model.h5')"
      ],
      "execution_count": 36,
      "outputs": [
        {
          "output_type": "stream",
          "text": [
            "ensemble_0.model.h5\n",
            "Epoch 1/6\n",
            "128/128 [==============================] - 33s 22ms/step - loss: 0.4253 - auc: 0.8929\n",
            "Epoch 2/6\n",
            "128/128 [==============================] - 3s 22ms/step - loss: 0.2879 - auc: 0.9619\n",
            "Epoch 3/6\n",
            "128/128 [==============================] - 3s 22ms/step - loss: 0.2248 - auc: 0.9721\n",
            "Epoch 4/6\n",
            "128/128 [==============================] - 3s 22ms/step - loss: 0.1962 - auc: 0.9774\n",
            "Epoch 5/6\n",
            "128/128 [==============================] - 3s 22ms/step - loss: 0.1786 - auc: 0.9804\n",
            "Epoch 6/6\n",
            "128/128 [==============================] - 3s 22ms/step - loss: 0.1679 - auc: 0.9820\n",
            "Epoch 1/2\n",
            "64/64 [==============================] - 4s 26ms/step - loss: 0.1580 - auc_1: 0.9838\n",
            "Epoch 2/2\n",
            "64/64 [==============================] - 2s 25ms/step - loss: 0.1545 - auc_1: 0.9849\n",
            "ensemble_1.model.h5\n",
            "Epoch 1/6\n",
            "128/128 [==============================] - 4s 23ms/step - loss: 0.6127 - auc_2: 0.7085\n",
            "Epoch 2/6\n",
            "128/128 [==============================] - 3s 22ms/step - loss: 0.5258 - auc_2: 0.7683\n",
            "Epoch 3/6\n",
            "128/128 [==============================] - 3s 23ms/step - loss: 0.4273 - auc_2: 0.8185\n",
            "Epoch 4/6\n",
            "128/128 [==============================] - 3s 22ms/step - loss: 0.2693 - auc_2: 0.9634\n",
            "Epoch 5/6\n",
            "128/128 [==============================] - 3s 22ms/step - loss: 0.2027 - auc_2: 0.9747\n",
            "Epoch 6/6\n",
            "128/128 [==============================] - 3s 22ms/step - loss: 0.1858 - auc_2: 0.9784\n",
            "Epoch 1/2\n",
            "64/64 [==============================] - 3s 26ms/step - loss: 0.1764 - auc_3: 0.9808\n",
            "Epoch 2/2\n",
            "64/64 [==============================] - 1s 23ms/step - loss: 0.1753 - auc_3: 0.9814\n",
            "ensemble_2.model.h5\n",
            "Epoch 1/6\n",
            "128/128 [==============================] - 4s 22ms/step - loss: 0.5391 - auc_4: 0.7273\n",
            "Epoch 2/6\n",
            "128/128 [==============================] - 3s 22ms/step - loss: 0.3403 - auc_4: 0.9469\n",
            "Epoch 3/6\n",
            "128/128 [==============================] - 3s 21ms/step - loss: 0.2475 - auc_4: 0.9651\n",
            "Epoch 4/6\n",
            "128/128 [==============================] - 3s 22ms/step - loss: 0.2094 - auc_4: 0.9731\n",
            "Epoch 5/6\n",
            "128/128 [==============================] - 3s 22ms/step - loss: 0.1915 - auc_4: 0.9768\n",
            "Epoch 6/6\n",
            "128/128 [==============================] - 3s 21ms/step - loss: 0.1762 - auc_4: 0.9800\n",
            "Epoch 1/2\n",
            "64/64 [==============================] - 2s 25ms/step - loss: 0.1700 - auc_5: 0.9808\n",
            "Epoch 2/2\n",
            "64/64 [==============================] - 2s 24ms/step - loss: 0.1682 - auc_5: 0.9814\n",
            "ensemble_3.model.h5\n",
            "Epoch 1/6\n",
            "128/128 [==============================] - 4s 22ms/step - loss: 0.3454 - auc_6: 0.9256\n",
            "Epoch 2/6\n",
            "128/128 [==============================] - 3s 22ms/step - loss: 0.2357 - auc_6: 0.9638\n",
            "Epoch 3/6\n",
            "128/128 [==============================] - 3s 23ms/step - loss: 0.2108 - auc_6: 0.9717\n",
            "Epoch 4/6\n",
            "128/128 [==============================] - 3s 22ms/step - loss: 0.1927 - auc_6: 0.9771\n",
            "Epoch 5/6\n",
            "128/128 [==============================] - 3s 22ms/step - loss: 0.1778 - auc_6: 0.9814\n",
            "Epoch 6/6\n",
            "128/128 [==============================] - 3s 22ms/step - loss: 0.1673 - auc_6: 0.9832\n",
            "Epoch 1/2\n",
            "64/64 [==============================] - 3s 27ms/step - loss: 0.1591 - auc_7: 0.9860\n",
            "Epoch 2/2\n",
            "64/64 [==============================] - 2s 25ms/step - loss: 0.1610 - auc_7: 0.9851\n",
            "ensemble_4.model.h5\n",
            "Epoch 1/6\n",
            "128/128 [==============================] - 4s 23ms/step - loss: 0.3894 - auc_8: 0.9305\n",
            "Epoch 2/6\n",
            "128/128 [==============================] - 3s 22ms/step - loss: 0.2475 - auc_8: 0.9639\n",
            "Epoch 3/6\n",
            "128/128 [==============================] - 3s 21ms/step - loss: 0.2090 - auc_8: 0.9732\n",
            "Epoch 4/6\n",
            "128/128 [==============================] - 3s 22ms/step - loss: 0.1927 - auc_8: 0.9765\n",
            "Epoch 5/6\n",
            "128/128 [==============================] - 3s 22ms/step - loss: 0.1774 - auc_8: 0.9799\n",
            "Epoch 6/6\n",
            "128/128 [==============================] - 3s 22ms/step - loss: 0.1673 - auc_8: 0.9817\n",
            "Epoch 1/2\n",
            "64/64 [==============================] - 3s 26ms/step - loss: 0.1590 - auc_9: 0.9833\n",
            "Epoch 2/2\n",
            "64/64 [==============================] - 2s 24ms/step - loss: 0.1586 - auc_9: 0.9839\n",
            "ensemble_5.model.h5\n",
            "Epoch 1/6\n",
            "128/128 [==============================] - 4s 22ms/step - loss: 0.3760 - auc_10: 0.9207\n",
            "Epoch 2/6\n",
            "128/128 [==============================] - 3s 22ms/step - loss: 0.2471 - auc_10: 0.9638\n",
            "Epoch 3/6\n",
            "128/128 [==============================] - 3s 22ms/step - loss: 0.2132 - auc_10: 0.9731\n",
            "Epoch 4/6\n",
            "128/128 [==============================] - 3s 21ms/step - loss: 0.1953 - auc_10: 0.9775\n",
            "Epoch 5/6\n",
            "128/128 [==============================] - 3s 21ms/step - loss: 0.1806 - auc_10: 0.9813\n",
            "Epoch 6/6\n",
            "128/128 [==============================] - 3s 21ms/step - loss: 0.1714 - auc_10: 0.9828\n",
            "Epoch 1/2\n",
            "64/64 [==============================] - 3s 26ms/step - loss: 0.1685 - auc_11: 0.9838\n",
            "Epoch 2/2\n",
            "64/64 [==============================] - 2s 25ms/step - loss: 0.1656 - auc_11: 0.9846\n",
            "ensemble_6.model.h5\n",
            "Epoch 1/6\n",
            "128/128 [==============================] - 4s 23ms/step - loss: 0.3270 - auc_12: 0.9292\n",
            "Epoch 2/6\n",
            "128/128 [==============================] - 3s 22ms/step - loss: 0.2271 - auc_12: 0.9653\n",
            "Epoch 3/6\n",
            "128/128 [==============================] - 3s 22ms/step - loss: 0.2007 - auc_12: 0.9737\n",
            "Epoch 4/6\n",
            "128/128 [==============================] - 3s 22ms/step - loss: 0.1807 - auc_12: 0.9796\n",
            "Epoch 5/6\n",
            "128/128 [==============================] - 3s 22ms/step - loss: 0.1719 - auc_12: 0.9814\n",
            "Epoch 6/6\n",
            "128/128 [==============================] - 3s 22ms/step - loss: 0.1587 - auc_12: 0.9848\n",
            "Epoch 1/2\n",
            "64/64 [==============================] - 3s 26ms/step - loss: 0.1547 - auc_13: 0.9859\n",
            "Epoch 2/2\n",
            "64/64 [==============================] - 2s 24ms/step - loss: 0.1532 - auc_13: 0.9859\n"
          ],
          "name": "stdout"
        }
      ]
    },
    {
      "cell_type": "markdown",
      "metadata": {
        "id": "hffB4EkIlov8"
      },
      "source": [
        "Now that we have the ensemble models saved, we will use them for the final prediction."
      ]
    },
    {
      "cell_type": "markdown",
      "metadata": {
        "id": "Q7K88ExKvDNs"
      },
      "source": [
        "### Important\n",
        "\n",
        "From now on, we use the final version of the paper implementation to show true performance.\n",
        "\n",
        "It is definitely possible to change the path where the weights exist in the colab project and train a new ensemble above."
      ]
    },
    {
      "cell_type": "code",
      "metadata": {
        "id": "avqbzbc1-DCz",
        "colab": {
          "base_uri": "https://localhost:8080/"
        },
        "outputId": "ad2393b8-ede1-4c93-b416-19a607cf5be4"
      },
      "source": [
        "# Training data - INCLUDES SUBALLELES\n",
        "\n",
        "train_ensemble = Ensemble(_train_X, dir='/content/models/')\n",
        "print(\"\\nTraining Accuracy (with suballeles):\", train_ensemble.evaluate(_train_y))"
      ],
      "execution_count": 52,
      "outputs": [
        {
          "output_type": "stream",
          "text": [
            "Predicting...\n",
            "\n",
            "Training Accuracy (with suballeles): 0.8867924528301887\n"
          ],
          "name": "stdout"
        }
      ]
    },
    {
      "cell_type": "code",
      "metadata": {
        "id": "lHWk7MrjvZk1",
        "colab": {
          "base_uri": "https://localhost:8080/"
        },
        "outputId": "ba4ac81e-99bd-4697-bf15-f191f1f52eb6"
      },
      "source": [
        "# Original paper attains 100% accuracy on training data star alleles\n",
        "\n",
        "star_train_ensemble = Ensemble(star_train_X, dir='/content/models/')\n",
        "print(\"\\nTraining Accuracy (only star alleles):\", star_train_ensemble.evaluate(star_train_y))"
      ],
      "execution_count": 53,
      "outputs": [
        {
          "output_type": "stream",
          "text": [
            "Predicting...\n",
            "\n",
            "Training Accuracy (only star alleles): 0.8709677419354839\n"
          ],
          "name": "stdout"
        }
      ]
    },
    {
      "cell_type": "markdown",
      "metadata": {
        "id": "Bqxf8bBWCoVX"
      },
      "source": [
        "## Initial Evaluation\n",
        "\n",
        "The purpose here is to properly quantify the accuracy of predictions by decoding the scoring system into their respective labels.\n",
        "\n",
        "**Note:** Training set contain suballele predictions. Suballeles of a given star allele _should_ have the same prediction, and so some star alleles with many more suballeles than others may affect the accuracy score. As a result, training data is evaluated "
      ]
    },
    {
      "cell_type": "code",
      "metadata": {
        "id": "66zI9F4nDcmk"
      },
      "source": [
        "import seaborn as sb\n",
        "import matplotlib.pyplot as plt\n",
        "\n",
        "def build_heatmap(pred, y, labels):\n",
        "  heatmap = []\n",
        "  for label in labels:\n",
        "    mask = pred == label\n",
        "    masked_labels = y[mask]\n",
        "    heatmap.append([len(masked_labels[masked_labels == l]) for l in reversed(labels)])\n",
        "\n",
        "  return heatmap"
      ],
      "execution_count": 40,
      "outputs": []
    },
    {
      "cell_type": "code",
      "metadata": {
        "id": "1f6YQoYIJZxX",
        "colab": {
          "base_uri": "https://localhost:8080/",
          "height": 423
        },
        "outputId": "d9526708-264a-4814-d1ea-14d7e380071a"
      },
      "source": [
        "labels = [\"Normal\", \"Decreased function\", \"No function\"]\n",
        "\n",
        "train_labels = star_train_ensemble.get_functions(star_train_y)\n",
        "train_heatmap = build_heatmap(star_train_ensemble.predictions, train_labels, labels)\n",
        "\n",
        "fig = plt.figure()\n",
        "fig.set_size_inches(7, 6)\n",
        "\n",
        "sb.heatmap(train_heatmap, cmap=\"Blues\", annot=train_heatmap, xticklabels=list(reversed(labels)), yticklabels=labels)\n",
        "\n",
        "plt.xlabel(\"True function\")\n",
        "plt.ylabel(\"Predicted function\")\n",
        "plt.title(\"Training set\")"
      ],
      "execution_count": 54,
      "outputs": [
        {
          "output_type": "execute_result",
          "data": {
            "text/plain": [
              "Text(0.5, 1.0, 'Training set')"
            ]
          },
          "metadata": {
            "tags": []
          },
          "execution_count": 54
        },
        {
          "output_type": "display_data",
          "data": {
            "image/png": "[encoded data removed]",
            "text/plain": [
              "<Figure size 504x432 with 2 Axes>"
            ]
          },
          "metadata": {
            "tags": [],
            "needs_background": "light"
          }
        }
      ]
    },
    {
      "cell_type": "markdown",
      "metadata": {
        "id": "ChPw_wFasAB7"
      },
      "source": [
        "## Final Evaluation\n",
        "\n",
        "Here we evaluate the final predictive ability of the implementation of the Hubble.2d6 paper.\n",
        "\n",
        "**Note**: We are using the models constructed in the previous step. Remove the `dir` param in all `Ensemble` initialisations to use the final models saved in the final project."
      ]
    },
    {
      "cell_type": "code",
      "metadata": {
        "id": "ICWXoMc9vsrT",
        "colab": {
          "base_uri": "https://localhost:8080/",
          "height": 322
        },
        "outputId": "112ddc1e-3d19-4c61-a4df-60f6c249d85e"
      },
      "source": [
        "# All test star alleles + suballeles\n",
        "\n",
        "test_ensemble = Ensemble(test_X, dir='/content/models/')\n",
        "test_labels = test_ensemble.get_functions(test_y)\n",
        "test_heatmap = build_heatmap(test_ensemble.predictions, test_labels, labels)\n",
        "\n",
        "fig = plt.figure()\n",
        "fig.set_size_inches(7, 6)\n",
        "sb.heatmap(test_heatmap, cmap=\"Blues\", annot=test_heatmap, xticklabels=list(reversed(labels)), yticklabels=labels)\n",
        "plt.xlabel(\"True function\")\n",
        "plt.ylabel(\"Predicted function\")\n",
        "plt.title(\"Test set + suballeles\")\n",
        "\n",
        "print(\"\\nTest Accuracy + suballeles:\", test_ensemble.evaluate(test_y))"
      ],
      "execution_count": 55,
      "outputs": [
        {
          "output_type": "stream",
          "text": [
            "Predicting...\n",
            "\n",
            "Test Accuracy + suballeles: 0.6666666666666666\n"
          ],
          "name": "stdout"
        },
        {
          "output_type": "display_data",
          "data": {
            "image/png": "[encoded data removed]",
            "text/plain": [
              "<Figure size 432x288 with 2 Axes>"
            ]
          },
          "metadata": {
            "tags": [],
            "needs_background": "light"
          }
        }
      ]
    },
    {
      "cell_type": "code",
      "metadata": {
        "id": "vLKA0kO7K4Ao",
        "colab": {
          "base_uri": "https://localhost:8080/",
          "height": 326
        },
        "outputId": "9cfb4814-312a-4169-edf0-b5776320b2d3"
      },
      "source": [
        "# All test star alleles\n",
        "\n",
        "test_ensemble = Ensemble(star_test_X, dir='/content/models/')\n",
        "test_labels = test_ensemble.get_functions(star_test_y)\n",
        "test_heatmap = build_heatmap(test_ensemble.predictions, test_labels, labels)\n",
        "\n",
        "fig = plt.figure()\n",
        "fig.set_size_inches(7, 6)\n",
        "sb.heatmap(test_heatmap, cmap=\"Blues\", annot=test_heatmap, xticklabels=list(reversed(labels)), yticklabels=labels)\n",
        "plt.xlabel(\"True function\")\n",
        "plt.ylabel(\"Predicted function\")\n",
        "plt.title(\"Test set + suballeles\")\n",
        "\n",
        "print(\"\\nTest Accuracy:\", test_ensemble.evaluate(star_test_y))"
      ],
      "execution_count": 56,
      "outputs": [
        {
          "output_type": "stream",
          "text": [
            "Predicting...\n",
            "\n",
            "Test Accuracy: 0.75\n"
          ],
          "name": "stdout"
        },
        {
          "output_type": "display_data",
          "data": {
            "image/png": "[encoded data removed]",
            "text/plain": [
              "<Figure size 432x288 with 2 Axes>"
            ]
          },
          "metadata": {
            "tags": [],
            "needs_background": "light"
          }
        }
      ]
    },
    {
      "cell_type": "markdown",
      "metadata": {
        "id": "JwXleKejwHlf"
      },
      "source": [
        "As you can see, on only star alleles, we achieve around 75% accuracy. With more inaccuracy with the set containing all respective suballeles.\n",
        "\n",
        "Based on the heatmap, the biggest error in prediction (on the test set) is a higher rate of predicting \"Decreased Function\" on haplotype with \"No Function\""
      ]
    }
  ]
}