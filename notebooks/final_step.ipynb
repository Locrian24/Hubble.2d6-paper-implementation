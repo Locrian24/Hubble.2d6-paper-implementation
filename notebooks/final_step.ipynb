{
  "nbformat": 4,
  "nbformat_minor": 0,
  "metadata": {
    "colab": {
      "name": "SGD + Test stuff.ipynb",
      "provenance": []
    },
    "kernelspec": {
      "name": "python3",
      "display_name": "Python 3"
    },
    "language_info": {
      "name": "python"
    }
  },
  "cells": [
    {
      "cell_type": "markdown",
      "metadata": {
        "id": "XtqBu9p17D2j"
      },
      "source": [
        "# Training the final model\n",
        "\n",
        "This notebook is supplementary material to the project here, which aims to re-implement the Hubble.2d6 tool to predict the function of CYP2D6 star alleles.\n",
        "\n",
        "Within this notebook, the final model in the sequence outlined in the paper is trained using transfer learning. Weights from the first step are loaded into the new model. The fully-connected layers of the first model are replaced with new, randomly initialised layers and trained on 31 star alleles and their respective suballeles.\n",
        "\n",
        "Please keep in mind that this implementation is incomplete due to the lack of resources to compute robust annotation embeddings of all variants for all star alleles.\n",
        "\n",
        "Additionally, in the paper, this model is supposed to instead have its weights - along with weights of one of the fully-connected layers - loaded in from the second model in the sequence. However, due to data availability, I was unable to reproduce the implementation of the second model and instead chose to transfer just the convolution layers' weights to the final model from the first model that was trained on simulated data."
      ]
    },
    {
      "cell_type": "markdown",
      "metadata": {
        "id": "z8a-EgmE8R4T"
      },
      "source": [
        "## Getting ready\n",
        "\n",
        "**Acknowledgements**: Pre-computed annotation embeddings used are form the original Hubble.2d6 repo: https://github.com/gregmcinnes/Hubble2D6/tree/master/data"
      ]
    },
    {
      "cell_type": "code",
      "metadata": {
        "id": "kMaqb2OooOXz"
      },
      "source": [
        "import tensorflow as tf\n",
        "import pandas as pd\n",
        "import numpy as np\n",
        "from sklearn.model_selection import train_test_split"
      ],
      "execution_count": 1,
      "outputs": []
    },
    {
      "cell_type": "code",
      "metadata": {
        "id": "dcVVyrq6uMF_"
      },
      "source": [
        "np.random.seed(1337)"
      ],
      "execution_count": 2,
      "outputs": []
    },
    {
      "cell_type": "code",
      "metadata": {
        "colab": {
          "base_uri": "https://localhost:8080/"
        },
        "id": "IaZ5UF2MoTfj",
        "outputId": "013f2036-9dff-4f0b-cc68-721d50ae58bf"
      },
      "source": [
        "!git clone https://github.com/Locrian24/seng474-term-project.git\n",
        "!cd seng474-term-project/ && git pull"
      ],
      "execution_count": 3,
      "outputs": [
        {
          "output_type": "stream",
          "text": [
            "fatal: destination path 'seng474-term-project' already exists and is not an empty directory.\n",
            "remote: Enumerating objects: 22, done.\u001b[K\n",
            "remote: Counting objects: 100% (22/22), done.\u001b[K\n",
            "remote: Compressing objects: 100% (9/9), done.\u001b[K\n",
            "remote: Total 12 (delta 3), reused 12 (delta 3), pack-reused 0\u001b[K\n",
            "Unpacking objects: 100% (12/12), done.\n",
            "From https://github.com/Locrian24/seng474-term-project\n",
            "   1e596b9..ef1a81e  main       -> origin/main\n",
            "Updating 1e596b9..ef1a81e\n",
            "Fast-forward\n",
            " data/ensemble_models/archive2/ensemble_0.model.h5 | Bin \u001b[31m0\u001b[m -> \u001b[32m647856\u001b[m bytes\n",
            " data/ensemble_models/archive2/ensemble_1.model.h5 | Bin \u001b[31m0\u001b[m -> \u001b[32m647856\u001b[m bytes\n",
            " data/ensemble_models/archive2/ensemble_2.model.h5 | Bin \u001b[31m0\u001b[m -> \u001b[32m647856\u001b[m bytes\n",
            " data/ensemble_models/archive2/ensemble_3.model.h5 | Bin \u001b[31m0\u001b[m -> \u001b[32m647856\u001b[m bytes\n",
            " data/ensemble_models/archive2/ensemble_4.model.h5 | Bin \u001b[31m0\u001b[m -> \u001b[32m647856\u001b[m bytes\n",
            " data/ensemble_models/archive2/ensemble_5.model.h5 | Bin \u001b[31m0\u001b[m -> \u001b[32m647856\u001b[m bytes\n",
            " data/ensemble_models/archive2/ensemble_6.model.h5 | Bin \u001b[31m0\u001b[m -> \u001b[32m647856\u001b[m bytes\n",
            " data/ensemble_models/ensemble_0.model.h5          | Bin \u001b[31m647856\u001b[m -> \u001b[32m647856\u001b[m bytes\n",
            " data/ensemble_models/ensemble_1.model.h5          | Bin \u001b[31m647856\u001b[m -> \u001b[32m647856\u001b[m bytes\n",
            " data/ensemble_models/ensemble_2.model.h5          | Bin \u001b[31m647856\u001b[m -> \u001b[32m647856\u001b[m bytes\n",
            " data/ensemble_models/ensemble_3.model.h5          | Bin \u001b[31m647856\u001b[m -> \u001b[32m647856\u001b[m bytes\n",
            " data/ensemble_models/ensemble_4.model.h5          | Bin \u001b[31m647856\u001b[m -> \u001b[32m647856\u001b[m bytes\n",
            " data/ensemble_models/ensemble_5.model.h5          | Bin \u001b[31m647856\u001b[m -> \u001b[32m647856\u001b[m bytes\n",
            " data/ensemble_models/ensemble_6.model.h5          | Bin \u001b[31m647856\u001b[m -> \u001b[32m647856\u001b[m bytes\n",
            " 14 files changed, 0 insertions(+), 0 deletions(-)\n",
            " create mode 100644 data/ensemble_models/archive2/ensemble_0.model.h5\n",
            " create mode 100644 data/ensemble_models/archive2/ensemble_1.model.h5\n",
            " create mode 100644 data/ensemble_models/archive2/ensemble_2.model.h5\n",
            " create mode 100644 data/ensemble_models/archive2/ensemble_3.model.h5\n",
            " create mode 100644 data/ensemble_models/archive2/ensemble_4.model.h5\n",
            " create mode 100644 data/ensemble_models/archive2/ensemble_5.model.h5\n",
            " create mode 100644 data/ensemble_models/archive2/ensemble_6.model.h5\n"
          ],
          "name": "stdout"
        }
      ]
    },
    {
      "cell_type": "code",
      "metadata": {
        "id": "0GWlFbEPofie"
      },
      "source": [
        "import sys\n",
        "sys.path.insert(0, '/content/seng474-term-project/model')"
      ],
      "execution_count": 4,
      "outputs": []
    },
    {
      "cell_type": "markdown",
      "metadata": {
        "id": "cGj8AD838tOw"
      },
      "source": [
        "## Preparing the data\n",
        "\n",
        "The vcf file of the star alleles used were provided from the paper and can be found **here**. "
      ]
    },
    {
      "cell_type": "markdown",
      "metadata": {
        "id": "N78uh8bB819L"
      },
      "source": [
        "### Encoding method\n",
        "\n",
        "The script `build_label_csv.py` was run on this vcf file to output the label csv that will be used for training.\n",
        "\n",
        "Labels for the data correspond to the ordinal classes describing the function of each CYP2D6 star allele and their respective suballeles: \"No function\", \"Decreased function\", and \"Normal function\".\n",
        "\n",
        "The model however is required to output two scores, representing the probability of a star allele being \"No function\" and \"Normal function\" respectively, and therefore a binary scoring system is used to encode the 3 function classes into these two scores. \n",
        "\n",
        "The scoring system is as follows:\n",
        "- \"No function\" alleles are indicated with a 0 as the first score, with all other functions being denoted with a 1\n",
        "- \"Normal function\" alleles are indicated with a 1 as the second score, with all other functions being denoted with a 0.\n",
        "\n",
        "This yields the following encodings:\n",
        "- \"No function\" = `[0, 0]`\n",
        "- \"Decreased function\" = `[0, 1]`\n",
        "- \"Normal function\" = `[1, 1]`\n",
        "\n",
        "**Note**: Star alleles with uncurated function have an empty label (`[None, None]`). \n",
        "\n",
        "_Sequence encodings are done exactly the same as in step 1_"
      ]
    },
    {
      "cell_type": "code",
      "metadata": {
        "id": "laWNZhUIo2Bl"
      },
      "source": [
        "from encode_to_seq import Encode2Seq\n",
        "\n",
        "# Global variables rn for testing\n",
        "\n",
        "ANNOTATIONS = '/content/seng474-term-project/data/gvcf2seq.annotation_embeddings.csv'\n",
        "EMBEDDINGS = '/content/seng474-term-project/data/embeddings.txt'\n",
        "REF = '/content/seng474-term-project/data/ref.seq'\n",
        "\n",
        "VCF = '/content/seng474-term-project/step3/data/star_samples.vcf'\n",
        "LABELS = '/content/seng474-term-project/step3/data/labels.csv'\n",
        "\n",
        "encoding = Encode2Seq(vcf=VCF, labels=LABELS, label_cols=[0, 1, 2], embedding_file=EMBEDDINGS, annotation_file=ANNOTATIONS, ref_seq=REF)"
      ],
      "execution_count": 5,
      "outputs": []
    },
    {
      "cell_type": "markdown",
      "metadata": {
        "id": "xFolDssq-wRu"
      },
      "source": [
        "### Seperation of data sets\n",
        "\n",
        "The paper indicates that they used 31 star alleles and their suballeles as training data, and 24 alleles to compose the test data. Additionally, 10% of the each functional class (\"No function\", \"Decreased function\", and \"Normal function\") were held out for validation during training.\n",
        "\n",
        "All star alleles with \"Uncurated function\" were ignored, and held from training/testing for obvious reasons."
      ]
    },
    {
      "cell_type": "code",
      "metadata": {
        "id": "cfQ9jyQMp_ca"
      },
      "source": [
        "# Select only star alleles with curated function\n",
        "\n",
        "mask = np.all(np.isnan(encoding.y) == False, axis=1)\n",
        "\n",
        "sample_y = encoding.y[mask]\n",
        "sample_X = encoding.X[mask.reshape(-1, 1).any(axis=1)]\n",
        "sample_names = encoding.sample_names[mask]"
      ],
      "execution_count": 6,
      "outputs": []
    },
    {
      "cell_type": "code",
      "metadata": {
        "id": "fzIJzGV8s8G3"
      },
      "source": [
        "# Get valid stars\n",
        "all_stars = np.array([s.split('_')[1] for s in sample_names])\n",
        "stars, idx = np.unique(all_stars, return_index=True)\n",
        "\n",
        "# Choose which stars are training and which are test: (31, 24) split\n",
        "# Should be stratified with labels\n",
        "train_idx, test_idx = train_test_split(idx, stratify=sample_y[idx], test_size=24, random_state=1)\n",
        "\n",
        "# Retrieve indices of training and test stars\n",
        "sample_mask = np.isin(all_stars, all_stars[train_idx])\n",
        "\n",
        "test_stars = np.array([s for s in sample_names[~sample_mask] if s.split('_')[-1] == '001'])\n",
        "test_mask = np.isin(sample_names, test_stars)\n",
        "\n",
        "train_stars = np.array([s for s in sample_names[sample_mask] if s.split('_')[-1] == '001'])\n",
        "train_mask = np.isin(sample_names, train_stars)\n",
        "\n",
        "# Split the data into the two sets - INCLUDING SUBALLES ON BOTH\n",
        "_train_X, test_X = sample_X[sample_mask], sample_X[~sample_mask]\n",
        "_train_y, test_y = sample_y[sample_mask], sample_y[~sample_mask]\n",
        "\n",
        "# Purely for evaluation (paper looks at star allele accuracy rather than star + suballeles)\n",
        "star_train_X, star_test_X = sample_X[train_mask], sample_X[test_mask]\n",
        "star_train_y, star_test_y = sample_y[train_mask], sample_y[test_mask]\n",
        "\n",
        "# Split training into train + validation (10% split -> validation)\n",
        "train_X, val_X, train_y, val_y = train_test_split(_train_X, _train_y, stratify=_train_y, test_size=0.1, random_state=1)"
      ],
      "execution_count": 7,
      "outputs": []
    },
    {
      "cell_type": "code",
      "metadata": {
        "id": "uAUG1QZQootJ"
      },
      "source": [
        "# Uncurated star alleles\n",
        "\n",
        "uncurated_samples = encoding.sample_names[~mask]\n",
        "uncurated_stars = np.array([s for s in uncurated_samples if s.split('_')[-1] == '001'])\n",
        "uncurated_star_mask = np.isin(uncurated_samples, uncurated_stars)\n",
        "\n",
        "uncurated_samples = uncurated_samples[uncurated_star_mask]\n",
        "uncurated_X = encoding.X[(~mask).reshape(-1, 1).any(axis=1)]\n",
        "uncurated_X = uncurated_X[uncurated_star_mask]"
      ],
      "execution_count": 8,
      "outputs": []
    },
    {
      "cell_type": "markdown",
      "metadata": {
        "id": "kpx-XJedAIRj"
      },
      "source": [
        "### Prepare data for the model"
      ]
    },
    {
      "cell_type": "code",
      "metadata": {
        "id": "ysEE5cl2AG6O"
      },
      "source": [
        "_train_ds = tf.data.Dataset.from_tensor_slices((train_X, train_y))\n",
        "train_ds = _train_ds.shuffle(train_X.shape[0], reshuffle_each_iteration=True).repeat().batch(32).prefetch(buffer_size=10)\n",
        "\n",
        "_val_ds = tf.data.Dataset.from_tensors((val_X, val_y))\n",
        "val_ds = _val_ds.prefetch(buffer_size=10)\n",
        "\n",
        "_test_ds = tf.data.Dataset.from_tensors((test_X, test_y))\n",
        "test_ds = _test_ds.prefetch(buffer_size=10)"
      ],
      "execution_count": 9,
      "outputs": []
    },
    {
      "cell_type": "markdown",
      "metadata": {
        "id": "mcKwYCgH6WN5"
      },
      "source": [
        "## Building the final model\n",
        "\n",
        "As stated earlier, the model is loaded from the generated model from step 1, and also inherits its learned weights."
      ]
    },
    {
      "cell_type": "code",
      "metadata": {
        "id": "tFFfrnMRMzDz"
      },
      "source": [
        "epochs = 8\n",
        "fine_tune_epochs = 2\n",
        "\n",
        "def build_and_fit(train_dataset, val_dataset):\n",
        "  json_file = open('/content/seng474-term-project/step_1/model.json', 'r')\n",
        "  loaded_model = json_file.read()\n",
        "  model = tf.keras.models.model_from_json(loaded_model)\n",
        "  model.load_weights('/content/seng474-term-project/step_1/weights.h5')\n",
        "  \n",
        "  # Remove fully connected layers\n",
        "  model.pop()\n",
        "  model.pop()\n",
        "  model.pop()\n",
        "  model.trainable = False\n",
        "\n",
        "  # Build final model\n",
        "  inputs = tf.keras.Input(shape=(14868, 13))\n",
        "  x = model(inputs, training=False)\n",
        "  x = tf.keras.layers.Dense(32, activation=tf.keras.activations.relu, kernel_initializer=tf.keras.initializers.VarianceScaling(mode='fan_avg', distribution='uniform'), name = \"dense_5\")(x)\n",
        "  x = tf.keras.layers.Dropout(rate=0.03, name=\"dropout_4\")(x)\n",
        "  x = tf.keras.layers.Dense(1, activation=tf.keras.activations.linear, kernel_initializer=tf.keras.initializers.VarianceScaling(mode='fan_avg', distribution='uniform'), name = \"dense_6\")(x)\n",
        "  outputs = tf.keras.layers.Dense(2, activation=tf.keras.activations.sigmoid, kernel_initializer=tf.keras.initializers.VarianceScaling(mode='fan_avg', distribution='uniform'), name = \"final_dense\")(x)\n",
        "  final_model = tf.keras.Model(inputs, outputs)\n",
        "\n",
        "  # Initial training\n",
        "  final_model.compile(\n",
        "    optimizer=tf.keras.optimizers.SGD(0.1, momentum=0.8, nesterov=True),\n",
        "    loss=tf.keras.losses.BinaryCrossentropy(),\n",
        "    metrics=[tf.keras.metrics.AUC()]\n",
        "  )\n",
        "\n",
        "  final_model.fit(train_dataset, epochs=epochs, validation_data=val_dataset, steps_per_epoch=32, validation_steps=1)\n",
        "\n",
        "  # Fine tuning\n",
        "  model.trainable = True\n",
        "  final_model.compile(\n",
        "      optimizer=tf.keras.optimizers.SGD(1e-5, momentum=0.8, nesterov=True),\n",
        "      loss=tf.keras.losses.BinaryCrossentropy(),\n",
        "      metrics=[tf.keras.metrics.AUC()]\n",
        "  )\n",
        "\n",
        "  final_model.fit(train_dataset, epochs=fine_tune_epochs, validation_data=val_dataset, steps_per_epoch=32, validation_steps=1)\n",
        "  \n",
        "  return final_model"
      ],
      "execution_count": 10,
      "outputs": []
    },
    {
      "cell_type": "markdown",
      "metadata": {
        "id": "rPINycCNcOV4"
      },
      "source": [
        "## Training ensemble models\n",
        "\n",
        "Hubble.2d6 uses an ensemble averaging method for it's final predictions. Here we are training 7 models to use in the ensemble, report the training accuracy of each and save these models for the final tool.\n",
        "\n",
        "This is commented out since it was run to obtain the final weights used in the final model implemented seperately"
      ]
    },
    {
      "cell_type": "code",
      "metadata": {
        "id": "sF3D87O0a4On"
      },
      "source": [
        "# ensemble_size = 7\n",
        "\n",
        "# for i in range(ensemble_size):\n",
        "#   print(f\"ensemble_{i}.model.h5\")\n",
        "#   model = build_and_fit(train_ds, val_ds)\n",
        "\n",
        "#   model.save(f'models/ensemble_{i}.model.h5')"
      ],
      "execution_count": 11,
      "outputs": []
    },
    {
      "cell_type": "markdown",
      "metadata": {
        "id": "hffB4EkIlov8"
      },
      "source": [
        "Now that we have the ensemble models saved, we will use them for the final prediction."
      ]
    },
    {
      "cell_type": "markdown",
      "metadata": {
        "id": "Q7K88ExKvDNs"
      },
      "source": [
        "### Important\n",
        "\n",
        "From now on, we use the final version of the paper implementation to show true performance.\n",
        "\n",
        "It is definitely possible to change the path where the weights exist in the colab project and train a new ensemble above."
      ]
    },
    {
      "cell_type": "markdown",
      "metadata": {
        "id": "kOyYP5sfr0b2"
      },
      "source": [
        "## Building the ensemble\n",
        "\n",
        "This step is identical to how the final implementation of this project builds the ensemble, with its purpose being here for evaluation purposes.\n",
        "\n",
        "**Note**: In development, this notebook was run and the weights are already saved for the final model"
      ]
    },
    {
      "cell_type": "code",
      "metadata": {
        "id": "4nJWnzprsGta"
      },
      "source": [
        "class Ensemble():\n",
        "  def __init__(self, X=None):\n",
        "    self.X = X\n",
        "    self.raw = None\n",
        "    self.predictions = None\n",
        "\n",
        "    self.run()\n",
        "\n",
        "  def run(self):\n",
        "    predictions = self.predict(self.X).mean(axis=0)\n",
        "    self.raw = predictions\n",
        "    self.predictions = self.get_functions(predictions)\n",
        "\n",
        "  def get_functions(self, pred):\n",
        "    cutpoint_1 = 0.4260022\n",
        "    cutpoint_2 = 0.7360413\n",
        "\n",
        "    cut1 = np.greater(pred[:, 0], [cutpoint_1])\n",
        "    cut2 = np.greater(pred[:, 1], [cutpoint_2])\n",
        "\n",
        "    functions = []\n",
        "    for i in range(pred.shape[0]):\n",
        "      if cut1[i] == True and cut2[i] == True:\n",
        "        functions.append(\"Normal\")\n",
        "      elif cut1[i] == True and cut2[i] == False:\n",
        "        functions.append(\"Decreased function\")\n",
        "      else:\n",
        "        functions.append(\"No function\")\n",
        "\n",
        "    return np.array(functions)\n",
        "\n",
        "  def evaluate(self, y):\n",
        "    labels = self.get_functions(y)\n",
        "    return np.sum(labels == self.predictions) / len(y)\n",
        "\n",
        "  def predict(self, X):\n",
        "    from glob import glob\n",
        "    dir = '/content/seng474-term-project/data/ensemble_models/'\n",
        "    models = glob(dir + \"*.model.h5\")\n",
        "    \n",
        "    predictions = []\n",
        "    for m in models:\n",
        "      print(f\"Predicting using {m}\")\n",
        "      model = tf.keras.models.load_model(m)\n",
        "      \n",
        "      pred = model.predict(X)\n",
        "      predictions.append(pred)\n",
        "\n",
        "    return np.array(predictions)"
      ],
      "execution_count": 12,
      "outputs": []
    },
    {
      "cell_type": "code",
      "metadata": {
        "id": "avqbzbc1-DCz",
        "colab": {
          "base_uri": "https://localhost:8080/"
        },
        "outputId": "ab4b9ab8-f51f-44a2-bc91-7d57e2ec3cad"
      },
      "source": [
        "# Training data - INCLUDES SUBALLELES\n",
        "\n",
        "train_ensemble = Ensemble(train_X)\n",
        "print(\"\\nTraining Accuracy (with suballeles):\", train_ensemble.evaluate(train_y))"
      ],
      "execution_count": 13,
      "outputs": [
        {
          "output_type": "stream",
          "text": [
            "Predicting using /content/seng474-term-project/data/ensemble_models/ensemble_4.model.h5\n",
            "Predicting using /content/seng474-term-project/data/ensemble_models/ensemble_6.model.h5\n",
            "Predicting using /content/seng474-term-project/data/ensemble_models/ensemble_0.model.h5\n",
            "Predicting using /content/seng474-term-project/data/ensemble_models/ensemble_1.model.h5\n",
            "Predicting using /content/seng474-term-project/data/ensemble_models/ensemble_2.model.h5\n",
            "Predicting using /content/seng474-term-project/data/ensemble_models/ensemble_5.model.h5\n",
            "Predicting using /content/seng474-term-project/data/ensemble_models/ensemble_3.model.h5\n",
            "\n",
            "Training Accuracy (with suballeles): 0.8671328671328671\n"
          ],
          "name": "stdout"
        }
      ]
    },
    {
      "cell_type": "code",
      "metadata": {
        "colab": {
          "base_uri": "https://localhost:8080/"
        },
        "id": "lHWk7MrjvZk1",
        "outputId": "13390db5-56a0-48d6-ac20-1b26af099493"
      },
      "source": [
        "# Original paper attains 100% accuracy on training data star alleles\n",
        "\n",
        "star_train_ensemble = Ensemble(star_train_X)\n",
        "print(\"\\nTraining Accuracy (only star alleles):\", star_train_ensemble.evaluate(star_train_y))"
      ],
      "execution_count": 14,
      "outputs": [
        {
          "output_type": "stream",
          "text": [
            "Predicting using /content/seng474-term-project/data/ensemble_models/ensemble_4.model.h5\n",
            "Predicting using /content/seng474-term-project/data/ensemble_models/ensemble_6.model.h5\n",
            "Predicting using /content/seng474-term-project/data/ensemble_models/ensemble_0.model.h5\n",
            "WARNING:tensorflow:5 out of the last 13 calls to <function Model.make_predict_function.<locals>.predict_function at 0x7fc045937d40> triggered tf.function retracing. Tracing is expensive and the excessive number of tracings could be due to (1) creating @tf.function repeatedly in a loop, (2) passing tensors with different shapes, (3) passing Python objects instead of tensors. For (1), please define your @tf.function outside of the loop. For (2), @tf.function has experimental_relax_shapes=True option that relaxes argument shapes that can avoid unnecessary retracing. For (3), please refer to https://www.tensorflow.org/guide/function#controlling_retracing and https://www.tensorflow.org/api_docs/python/tf/function for  more details.\n",
            "Predicting using /content/seng474-term-project/data/ensemble_models/ensemble_1.model.h5\n",
            "WARNING:tensorflow:6 out of the last 14 calls to <function Model.make_predict_function.<locals>.predict_function at 0x7fc0461e7830> triggered tf.function retracing. Tracing is expensive and the excessive number of tracings could be due to (1) creating @tf.function repeatedly in a loop, (2) passing tensors with different shapes, (3) passing Python objects instead of tensors. For (1), please define your @tf.function outside of the loop. For (2), @tf.function has experimental_relax_shapes=True option that relaxes argument shapes that can avoid unnecessary retracing. For (3), please refer to https://www.tensorflow.org/guide/function#controlling_retracing and https://www.tensorflow.org/api_docs/python/tf/function for  more details.\n",
            "Predicting using /content/seng474-term-project/data/ensemble_models/ensemble_2.model.h5\n",
            "Predicting using /content/seng474-term-project/data/ensemble_models/ensemble_5.model.h5\n",
            "Predicting using /content/seng474-term-project/data/ensemble_models/ensemble_3.model.h5\n",
            "\n",
            "Training Accuracy (only star alleles): 0.8387096774193549\n"
          ],
          "name": "stdout"
        }
      ]
    },
    {
      "cell_type": "code",
      "metadata": {
        "colab": {
          "base_uri": "https://localhost:8080/"
        },
        "id": "XAmr2mBXDSN3",
        "outputId": "2cb8b17d-2b5b-4a6b-baa8-153ad41e8d97"
      },
      "source": [
        "# Validation data - INCLUDES SUBALLELES\n",
        "\n",
        "val_ensemble = Ensemble(val_X)\n",
        "\n",
        "print(\"\\nValidation Accuracy:\", val_ensemble.evaluate(val_y))"
      ],
      "execution_count": 15,
      "outputs": [
        {
          "output_type": "stream",
          "text": [
            "Predicting using /content/seng474-term-project/data/ensemble_models/ensemble_4.model.h5\n",
            "Predicting using /content/seng474-term-project/data/ensemble_models/ensemble_6.model.h5\n",
            "Predicting using /content/seng474-term-project/data/ensemble_models/ensemble_0.model.h5\n",
            "Predicting using /content/seng474-term-project/data/ensemble_models/ensemble_1.model.h5\n",
            "Predicting using /content/seng474-term-project/data/ensemble_models/ensemble_2.model.h5\n",
            "Predicting using /content/seng474-term-project/data/ensemble_models/ensemble_5.model.h5\n",
            "Predicting using /content/seng474-term-project/data/ensemble_models/ensemble_3.model.h5\n",
            "\n",
            "Validation Accuracy: 0.8125\n"
          ],
          "name": "stdout"
        }
      ]
    },
    {
      "cell_type": "markdown",
      "metadata": {
        "id": "Bqxf8bBWCoVX"
      },
      "source": [
        "## Initial Evaluation\n",
        "\n",
        "The purpose here is to properly quantify the accuracy of predictions by decoding the scoring system into their respective labels.\n",
        "\n",
        "**Note:** Training and validation sets contain suballele predictions. Suballeles of a given star allele _should_ have the same prediction, and so some star alleles with many more suballeles than others may affect the accuracy score. As a result, training data is evaluated "
      ]
    },
    {
      "cell_type": "code",
      "metadata": {
        "id": "66zI9F4nDcmk"
      },
      "source": [
        "import seaborn as sb\n",
        "import matplotlib.pyplot as plt\n",
        "\n",
        "def build_heatmap(pred, y, labels):\n",
        "  heatmap = []\n",
        "  for label in labels:\n",
        "    mask = pred == label\n",
        "    masked_labels = y[mask]\n",
        "    heatmap.append([len(masked_labels[masked_labels == l]) for l in reversed(labels)])\n",
        "\n",
        "  return heatmap"
      ],
      "execution_count": 16,
      "outputs": []
    },
    {
      "cell_type": "code",
      "metadata": {
        "id": "1f6YQoYIJZxX",
        "colab": {
          "base_uri": "https://localhost:8080/",
          "height": 423
        },
        "outputId": "a31117a5-e604-4e86-9d92-bc80e1130e72"
      },
      "source": [
        "labels = [\"Normal\", \"Decreased function\", \"No function\"]\n",
        "\n",
        "train_labels = star_train_ensemble.get_functions(star_train_y)\n",
        "val_labels = val_ensemble.get_functions(val_y)\n",
        "\n",
        "train_heatmap = build_heatmap(star_train_ensemble.predictions, train_labels, labels)\n",
        "val_heatmap = build_heatmap(val_ensemble.predictions, val_labels, labels)\n",
        "\n",
        "fig, (ax1, ax2) = plt.subplots(1, 2, sharey=True)\n",
        "fig.set_size_inches(14, 6)\n",
        "\n",
        "sb.heatmap(train_heatmap, cmap=\"Blues\", annot=train_heatmap, xticklabels=list(reversed(labels)), yticklabels=labels, ax=ax1)\n",
        "sb.heatmap(val_heatmap, cmap=\"Blues\", annot=val_heatmap, xticklabels=list(reversed(labels)), yticklabels=labels, ax=ax2)\n",
        "\n",
        "ax1.set(xlabel=\"True function\", ylabel=\"Predicted function\", title=\"Training set\")\n",
        "ax2.set(xlabel=\"True function\", title=\"Validation set\")"
      ],
      "execution_count": 18,
      "outputs": [
        {
          "output_type": "execute_result",
          "data": {
            "text/plain": [
              "[Text(0.5, 33.0, 'True function'), Text(0.5, 1.0, 'Validation set')]"
            ]
          },
          "metadata": {
            "tags": []
          },
          "execution_count": 18
        },
        {
          "output_type": "display_data",
          "data": {
            "image/png": "[encoded data removed]",
            "text/plain": [
              "<Figure size 1008x432 with 4 Axes>"
            ]
          },
          "metadata": {
            "tags": [],
            "needs_background": "light"
          }
        }
      ]
    },
    {
      "cell_type": "markdown",
      "metadata": {
        "id": "ChPw_wFasAB7"
      },
      "source": [
        "## Final Evaluation\n",
        "\n",
        "Here we evaluate the final predictive ability of the implementation of the Hubble.2d6 paper."
      ]
    },
    {
      "cell_type": "code",
      "metadata": {
        "colab": {
          "base_uri": "https://localhost:8080/",
          "height": 440
        },
        "id": "ICWXoMc9vsrT",
        "outputId": "ebac6094-e407-4757-cfd1-b06dcdbde05c"
      },
      "source": [
        "# All test star alleles + suballeles\n",
        "\n",
        "test_ensemble = Ensemble(test_X)\n",
        "test_labels = test_ensemble.get_functions(test_y)\n",
        "test_heatmap = build_heatmap(test_ensemble.predictions, test_labels, labels)\n",
        "sb.heatmap(test_heatmap, cmap=\"Blues\", annot=test_heatmap, xticklabels=list(reversed(labels)), yticklabels=labels)\n",
        "\n",
        "print(\"\\nTest Accuracy + suballeles:\", test_ensemble.evaluate(test_y))"
      ],
      "execution_count": 19,
      "outputs": [
        {
          "output_type": "stream",
          "text": [
            "Predicting using /content/seng474-term-project/data/ensemble_models/ensemble_4.model.h5\n",
            "Predicting using /content/seng474-term-project/data/ensemble_models/ensemble_6.model.h5\n",
            "Predicting using /content/seng474-term-project/data/ensemble_models/ensemble_0.model.h5\n",
            "Predicting using /content/seng474-term-project/data/ensemble_models/ensemble_1.model.h5\n",
            "Predicting using /content/seng474-term-project/data/ensemble_models/ensemble_2.model.h5\n",
            "Predicting using /content/seng474-term-project/data/ensemble_models/ensemble_5.model.h5\n",
            "Predicting using /content/seng474-term-project/data/ensemble_models/ensemble_3.model.h5\n",
            "\n",
            "Test Accuracy + suballeles: 0.7017543859649122\n"
          ],
          "name": "stdout"
        },
        {
          "output_type": "display_data",
          "data": {
            "image/png": "[encoded data removed]",
            "text/plain": [
              "<Figure size 432x288 with 2 Axes>"
            ]
          },
          "metadata": {
            "tags": [],
            "needs_background": "light"
          }
        }
      ]
    },
    {
      "cell_type": "code",
      "metadata": {
        "id": "vLKA0kO7K4Ao",
        "colab": {
          "base_uri": "https://localhost:8080/",
          "height": 440
        },
        "outputId": "d37a2fd9-ad49-4293-a4e6-9d19b2247956"
      },
      "source": [
        "# All test star alleles\n",
        "\n",
        "test_ensemble = Ensemble(star_test_X)\n",
        "test_labels = test_ensemble.get_functions(star_test_y)\n",
        "test_heatmap = build_heatmap(test_ensemble.predictions, test_labels, labels)\n",
        "sb.heatmap(test_heatmap, cmap=\"Blues\", annot=test_heatmap, xticklabels=list(reversed(labels)), yticklabels=labels)\n",
        "\n",
        "print(\"\\nTest Accuracy:\", test_ensemble.evaluate(star_test_y))"
      ],
      "execution_count": 20,
      "outputs": [
        {
          "output_type": "stream",
          "text": [
            "Predicting using /content/seng474-term-project/data/ensemble_models/ensemble_4.model.h5\n",
            "Predicting using /content/seng474-term-project/data/ensemble_models/ensemble_6.model.h5\n",
            "Predicting using /content/seng474-term-project/data/ensemble_models/ensemble_0.model.h5\n",
            "Predicting using /content/seng474-term-project/data/ensemble_models/ensemble_1.model.h5\n",
            "Predicting using /content/seng474-term-project/data/ensemble_models/ensemble_2.model.h5\n",
            "Predicting using /content/seng474-term-project/data/ensemble_models/ensemble_5.model.h5\n",
            "Predicting using /content/seng474-term-project/data/ensemble_models/ensemble_3.model.h5\n",
            "\n",
            "Test Accuracy: 0.75\n"
          ],
          "name": "stdout"
        },
        {
          "output_type": "display_data",
          "data": {
            "image/png": "[encoded data removed]",
            "text/plain": [
              "<Figure size 432x288 with 2 Axes>"
            ]
          },
          "metadata": {
            "tags": [],
            "needs_background": "light"
          }
        }
      ]
    },
    {
      "cell_type": "markdown",
      "metadata": {
        "id": "JwXleKejwHlf"
      },
      "source": [
        "As you can see, on only star alleles, we achieve around 75% accuracy. With more inaccuracy with the set containing all respective suballeles.\n",
        "\n",
        "Based on the heatmap, the biggest error in prediction (on the test set) is a higher rate of predicting \"Decreased Function\" on haplotype with \"No Function\""
      ]
    }
  ]
}