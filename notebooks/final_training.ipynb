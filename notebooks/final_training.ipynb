{
  "nbformat": 4,
  "nbformat_minor": 0,
  "metadata": {
    "colab": {
      "name": "final_training.ipynb",
      "provenance": []
    },
    "kernelspec": {
      "name": "python3",
      "display_name": "Python 3"
    },
    "language_info": {
      "name": "python"
    }
  },
  "cells": [
    {
      "cell_type": "markdown",
      "metadata": {
        "id": "XtqBu9p17D2j"
      },
      "source": [
        "# Training the final model\n",
        "\n",
        "This notebook is supplementary material to the project here, which aims to re-implement the Hubble.2d6 tool to predict the function of CYP2D6 star alleles.\n",
        "\n",
        "Within this notebook, the final model in the sequence outlined in the paper is trained using transfer learning. Weights from the first step are loaded into the new model. The fully-connected layers of the first model are replaced with new, randomly initialised layers and trained on 31 star alleles and their respective suballeles.\n",
        "\n",
        "Please keep in mind that this implementation is incomplete due to the lack of resources to compute robust annotation embeddings of all variants for all star alleles.\n",
        "\n",
        "Additionally, in the paper, this model is supposed to instead have its weights - along with weights of one of the fully-connected layers - loaded in from the second model in the sequence. However, due to data availability, I was unable to reproduce the implementation of the second model and instead chose to transfer just the convolution layers' weights to the final model from the first model that was trained on simulated data."
      ]
    },
    {
      "cell_type": "markdown",
      "metadata": {
        "id": "z8a-EgmE8R4T"
      },
      "source": [
        "## Getting ready\n",
        "\n",
        "**Acknowledgements**: Pre-computed annotation embeddings used are form the original Hubble.2d6 repo: https://github.com/gregmcinnes/Hubble2D6/tree/master/data"
      ]
    },
    {
      "cell_type": "code",
      "metadata": {
        "id": "kMaqb2OooOXz"
      },
      "source": [
        "import tensorflow as tf\n",
        "import pandas as pd\n",
        "import numpy as np\n",
        "from sklearn.model_selection import train_test_split"
      ],
      "execution_count": 1,
      "outputs": []
    },
    {
      "cell_type": "code",
      "metadata": {
        "id": "dcVVyrq6uMF_"
      },
      "source": [
        "np.random.seed(1337)"
      ],
      "execution_count": 2,
      "outputs": []
    },
    {
      "cell_type": "code",
      "metadata": {
        "colab": {
          "base_uri": "https://localhost:8080/"
        },
        "id": "IaZ5UF2MoTfj",
        "outputId": "483e355b-9e9b-4236-9f18-a8a62ca16346"
      },
      "source": [
        "!git clone https://github.com/Locrian24/seng474-term-project.git\n",
        "!cd seng474-term-project/ && git pull"
      ],
      "execution_count": 3,
      "outputs": [
        {
          "output_type": "stream",
          "text": [
            "fatal: destination path 'seng474-term-project' already exists and is not an empty directory.\n",
            "Already up to date.\n"
          ],
          "name": "stdout"
        }
      ]
    },
    {
      "cell_type": "code",
      "metadata": {
        "id": "0GWlFbEPofie"
      },
      "source": [
        "import sys\n",
        "sys.path.insert(0, '/content/seng474-term-project')"
      ],
      "execution_count": 4,
      "outputs": []
    },
    {
      "cell_type": "markdown",
      "metadata": {
        "id": "cGj8AD838tOw"
      },
      "source": [
        "## Preparing the data\n",
        "\n",
        "The vcf file of the star alleles used were provided from the paper and can be found **here**. "
      ]
    },
    {
      "cell_type": "markdown",
      "metadata": {
        "id": "N78uh8bB819L"
      },
      "source": [
        "### Encoding method\n",
        "\n",
        "The script `build_label_csv.py` was run on this vcf file to output the label csv that will be used for training.\n",
        "\n",
        "Labels for the data correspond to the ordinal classes describing the function of each CYP2D6 star allele and their respective suballeles: \"No function\", \"Decreased function\", and \"Normal function\".\n",
        "\n",
        "The model however is required to output two scores, representing the probability of a star allele being \"No function\" and \"Normal function\" respectively, and therefore a binary scoring system is used to encode the 3 function classes into these two scores. \n",
        "\n",
        "The scoring system is as follows:\n",
        "- \"No function\" alleles are indicated with a 0 as the first score, with all other functions being denoted with a 1\n",
        "- \"Normal function\" alleles are indicated with a 1 as the second score, with all other functions being denoted with a 0.\n",
        "\n",
        "This yields the following encodings:\n",
        "- \"No function\" = `[0, 0]`\n",
        "- \"Decreased function\" = `[0, 1]`\n",
        "- \"Normal function\" = `[1, 1]`\n",
        "\n",
        "**Note**: Star alleles with uncurated function have an empty label (`[None, None]`). \n",
        "\n",
        "_Sequence encodings are done exactly the same as in step 1_"
      ]
    },
    {
      "cell_type": "code",
      "metadata": {
        "id": "laWNZhUIo2Bl"
      },
      "source": [
        "from encode_to_seq import Encode2Seq\n",
        "\n",
        "# Global variables rn for testing\n",
        "\n",
        "ANNOTATIONS = '/content/seng474-term-project/data/gvcf2seq.annotation_embeddings.csv'\n",
        "EMBEDDINGS = '/content/seng474-term-project/data/embeddings.txt'\n",
        "REF = '/content/seng474-term-project/data/ref.seq'\n",
        "\n",
        "VCF = '/content/seng474-term-project/step3/star_samples.vcf'\n",
        "LABELS = '/content/seng474-term-project/step3/labels.csv'\n",
        "\n",
        "encoding = Encode2Seq(vcf=VCF, labels=LABELS, label_cols=[0, 1, 2], embedding_file=EMBEDDINGS, annotation_file=ANNOTATIONS, ref_seq=REF)"
      ],
      "execution_count": 5,
      "outputs": []
    },
    {
      "cell_type": "markdown",
      "metadata": {
        "id": "xFolDssq-wRu"
      },
      "source": [
        "### Seperation of data sets\n",
        "\n",
        "The paper indicates that they used 31 star alleles and their suballeles as training data, and 24 alleles to compose the test data. Additionally, 10% of the each functional class (\"No function\", \"Decreased function\", and \"Normal function\") were held out for validation during training.\n",
        "\n",
        "All star alleles with \"Uncurated function\" were ignored, and held from training/testing for obvious reasons."
      ]
    },
    {
      "cell_type": "code",
      "metadata": {
        "id": "cfQ9jyQMp_ca"
      },
      "source": [
        "# Select only star alleles with curated function\n",
        "\n",
        "mask = np.all(np.isnan(encoding.y) == False, axis=1)\n",
        "\n",
        "sample_y = encoding.y[mask]\n",
        "sample_X = encoding.X[mask.reshape(-1, 1).any(axis=1)]\n",
        "sample_names = encoding.sample_names[mask]"
      ],
      "execution_count": 6,
      "outputs": []
    },
    {
      "cell_type": "code",
      "metadata": {
        "id": "fzIJzGV8s8G3"
      },
      "source": [
        "# Get valid stars\n",
        "all_stars = np.array([s.split('_')[1] for s in sample_names])\n",
        "stars, idx = np.unique(all_stars, return_index=True)\n",
        "\n",
        "# Choose which stars are training and which are test: (31, 24) split\n",
        "# Should be stratified with labels\n",
        "train_idx, test_idx = train_test_split(idx, stratify=sample_y[idx], test_size=24, random_state=0)\n",
        "\n",
        "# Retrieve indices of training and test stars\n",
        "sample_mask = np.isin(all_stars, all_stars[train_idx])\n",
        "\n",
        "test_stars = np.array([s for s in sample_names[~sample_mask] if s.split('_')[-1] == 'vcf'])\n",
        "test_mask = np.isin(sample_names, test_stars)\n",
        "\n",
        "# Split the data into the two sets - INCLUDING SUBALLES ON BOTH\n",
        "# _train_X, test_X = sample_X[sample_mask], sample_X[~sample_mask]\n",
        "# _train_y, test_y = sample_y[sample_mask], sample_y[~sample_mask]\n",
        "\n",
        "_train_X, test_X = sample_X[sample_mask], sample_X[test_mask]\n",
        "_train_y, test_y = sample_y[sample_mask], sample_y[test_mask]\n",
        "\n",
        "# Split training into train + validation (10% split -> validation)\n",
        "train_X, val_X, train_y, val_y = train_test_split(_train_X, _train_y, stratify=_train_y, test_size=0.1, random_state=0)"
      ],
      "execution_count": 7,
      "outputs": []
    },
    {
      "cell_type": "code",
      "metadata": {
        "id": "uAUG1QZQootJ"
      },
      "source": [
        "# Uncurated star alleles\n",
        "\n",
        "uncurated_samples = encoding.sample_names[~mask]\n",
        "uncurated_stars = np.array([s for s in uncurated_samples if s.split('_')[-1] == 'vcf'])\n",
        "uncurated_star_mask = np.isin(uncurated_samples, uncurated_stars)\n",
        "\n",
        "# uncurated_X = encoding.X[uncurated_star_idx]\n",
        "# uncurated_samples = uncurated_samples[uncurated_star_idx]\n",
        "\n",
        "uncurated_samples = uncurated_samples[uncurated_star_mask]\n",
        "uncurated_X = encoding.X[(~mask).reshape(-1, 1).any(axis=1)]\n",
        "uncurated_X = uncurated_X[uncurated_star_mask]"
      ],
      "execution_count": 8,
      "outputs": []
    },
    {
      "cell_type": "markdown",
      "metadata": {
        "id": "kpx-XJedAIRj"
      },
      "source": [
        "### Prepare data for the model"
      ]
    },
    {
      "cell_type": "code",
      "metadata": {
        "id": "ysEE5cl2AG6O"
      },
      "source": [
        "_train_ds = tf.data.Dataset.from_tensor_slices((train_X, train_y))\n",
        "train_ds = _train_ds.cache().shuffle(32).batch(32).prefetch(buffer_size=10)\n",
        "\n",
        "_val_ds = tf.data.Dataset.from_tensor_slices((val_X, val_y))\n",
        "val_ds = _val_ds.cache().shuffle(32).batch(32).prefetch(buffer_size=10)\n",
        "\n",
        "_test_ds = tf.data.Dataset.from_tensors((test_X, test_y))\n",
        "test_ds = _test_ds.cache().prefetch(buffer_size=10)"
      ],
      "execution_count": 9,
      "outputs": []
    },
    {
      "cell_type": "markdown",
      "metadata": {
        "id": "mcKwYCgH6WN5"
      },
      "source": [
        "## Building the final model\n",
        "\n",
        "As stated earlier, the model is loaded from the generated model from step 1, and also inherits its learned weights."
      ]
    },
    {
      "cell_type": "code",
      "metadata": {
        "id": "tFFfrnMRMzDz"
      },
      "source": [
        "epochs = 20\n",
        "fine_tune_epochs = 7\n",
        "\n",
        "def build_and_fit(train_dataset, val_dataset):\n",
        "  json_file = open('/content/seng474-term-project/step_1/model.json', 'r')\n",
        "  loaded_model = json_file.read()\n",
        "  model = tf.keras.models.model_from_json(loaded_model)\n",
        "  model.load_weights('/content/seng474-term-project/step_1/weights.h5')\n",
        "  \n",
        "  # Remove fully connected layers\n",
        "  model.pop()\n",
        "  model.pop()\n",
        "  model.pop()\n",
        "  model.trainable = False\n",
        "\n",
        "  # Build final model\n",
        "  inputs = tf.keras.Input(shape=(14868, 13))\n",
        "  model.training = False\n",
        "  x = model(inputs, training=False)\n",
        "  x = tf.keras.layers.Dense(32, activation=tf.keras.activations.relu, kernel_initializer=tf.keras.initializers.VarianceScaling(mode='fan_avg', distribution='uniform'), name = \"dense_5\")(x)\n",
        "  x = tf.keras.layers.Dropout(rate=0.03, name=\"dropout_4\")(x)\n",
        "  x = tf.keras.layers.Dense(1, activation=tf.keras.activations.linear, kernel_initializer=tf.keras.initializers.VarianceScaling(mode='fan_avg', distribution='uniform'), name = \"dense_6\")(x)\n",
        "  outputs = tf.keras.layers.Dense(2, activation=tf.keras.activations.sigmoid, kernel_initializer=tf.keras.initializers.VarianceScaling(mode='fan_avg', distribution='uniform'), name = \"final_dense\")(x)\n",
        "  final_model = tf.keras.Model(inputs, outputs)\n",
        "\n",
        "  # Initial training\n",
        "  final_model.compile(\n",
        "    optimizer=tf.keras.optimizers.Adam(0.01),\n",
        "    loss=tf.keras.losses.BinaryCrossentropy(),\n",
        "    metrics=[tf.keras.metrics.BinaryAccuracy()]\n",
        "  )\n",
        "\n",
        "  final_model.fit(train_dataset, epochs=epochs, validation_data=val_dataset, verbose=False)\n",
        "\n",
        "  # Fine tuning\n",
        "  model.trainable = True\n",
        "  final_model.compile(\n",
        "      tf.keras.optimizers.Adam(1e-5),\n",
        "      loss=tf.keras.losses.BinaryCrossentropy(),\n",
        "      metrics=[tf.keras.metrics.BinaryAccuracy()]\n",
        "  )\n",
        "\n",
        "  final_model.fit(train_dataset, epochs=fine_tune_epochs, validation_data=val_dataset, verbose=False)\n",
        "  \n",
        "  return final_model"
      ],
      "execution_count": 10,
      "outputs": []
    },
    {
      "cell_type": "markdown",
      "metadata": {
        "id": "rPINycCNcOV4"
      },
      "source": [
        "## Training ensemble models\n",
        "\n",
        "Hubble.2d6 uses an ensemble averaging method for it's final predictions. Here we are training 7 models to use in the ensemble, report the training accuracy of each and save these models for the final tool."
      ]
    },
    {
      "cell_type": "code",
      "metadata": {
        "colab": {
          "base_uri": "https://localhost:8080/"
        },
        "id": "sF3D87O0a4On",
        "outputId": "dd4eac48-7d4c-4541-a895-f9400ff28875"
      },
      "source": [
        "ensemble_size = 7\n",
        "\n",
        "for i in range(ensemble_size):\n",
        "  model = build_and_fit(train_ds, val_ds)\n",
        "  model.evaluate(train_ds)\n",
        "\n",
        "  # model.save(f'models/ensemble_{i}.model.h5')"
      ],
      "execution_count": 11,
      "outputs": [
        {
          "output_type": "stream",
          "text": [
            "4/4 [==============================] - 0s 80ms/step - loss: 0.2120 - binary_accuracy: 0.8922\n",
            "4/4 [==============================] - 0s 85ms/step - loss: 0.1434 - binary_accuracy: 0.9569\n",
            "4/4 [==============================] - 0s 87ms/step - loss: 0.1251 - binary_accuracy: 0.9526\n",
            "4/4 [==============================] - 0s 78ms/step - loss: 0.1813 - binary_accuracy: 0.9138\n",
            "4/4 [==============================] - 0s 85ms/step - loss: 0.1314 - binary_accuracy: 0.9353\n",
            "4/4 [==============================] - 0s 82ms/step - loss: 0.4994 - binary_accuracy: 0.7672\n",
            "4/4 [==============================] - 0s 81ms/step - loss: 0.1269 - binary_accuracy: 0.9440\n"
          ],
          "name": "stdout"
        }
      ]
    },
    {
      "cell_type": "markdown",
      "metadata": {
        "id": "uYDBM6LFA3Sl"
      },
      "source": [
        "## Model evaluation\n",
        "\n"
      ]
    },
    {
      "cell_type": "markdown",
      "metadata": {
        "id": "S8vraM9sBfy6"
      },
      "source": [
        "First we compare the predictions generated by the model to the labels of the test set. Remember, these labels have been encoded to the scoring system and so may not adequately represent the output of the final model."
      ]
    },
    {
      "cell_type": "code",
      "metadata": {
        "colab": {
          "base_uri": "https://localhost:8080/"
        },
        "id": "LJor-AW-sImV",
        "outputId": "f2f04b9d-95a2-4b49-bc20-8af2e91227fe"
      },
      "source": [
        "# Evaluation on encoded labels\n",
        "\n",
        "model.evaluate(test_ds)"
      ],
      "execution_count": 12,
      "outputs": [
        {
          "output_type": "stream",
          "text": [
            "1/1 [==============================] - 0s 276ms/step - loss: 0.3825 - binary_accuracy: 0.8478\n"
          ],
          "name": "stdout"
        },
        {
          "output_type": "execute_result",
          "data": {
            "text/plain": [
              "[0.38245582580566406, 0.8478260636329651]"
            ]
          },
          "metadata": {
            "tags": []
          },
          "execution_count": 12
        }
      ]
    },
    {
      "cell_type": "markdown",
      "metadata": {
        "id": "irrU9_rOBdg0"
      },
      "source": [
        "Next we reverse the scoring system to each of the 3 functional classes using the cutoffs and conditions expressed within the paper."
      ]
    },
    {
      "cell_type": "code",
      "metadata": {
        "id": "X4BpHKZosM6f"
      },
      "source": [
        "preds = model.predict(test_X)"
      ],
      "execution_count": 13,
      "outputs": []
    },
    {
      "cell_type": "code",
      "metadata": {
        "id": "pSuZhG0ovaEO"
      },
      "source": [
        "def get_functions(pred):\n",
        "  cutpoint_1 = 0.4260022\n",
        "  cutpoint_2 = 0.7360413\n",
        "\n",
        "  cut1 = np.greater(pred[:, 0], [cutpoint_1])\n",
        "  cut2 = np.greater(pred[:, 1], [cutpoint_2])\n",
        "\n",
        "  functions = []\n",
        "  for i in range(pred.shape[0]):\n",
        "    if cut1[i] == True and cut2[i] == True:\n",
        "      functions.append(\"Normal\")\n",
        "    elif cut1[i] == True and cut2[i] == False:\n",
        "      functions.append(\"Decreased Function\")\n",
        "    else:\n",
        "      functions.append(\"No function\")\n",
        "\n",
        "  return np.array(functions)"
      ],
      "execution_count": 14,
      "outputs": []
    },
    {
      "cell_type": "code",
      "metadata": {
        "id": "mL9FyktBu4Po"
      },
      "source": [
        "predictions = get_functions(preds)\n",
        "true_labels = get_functions(test_y)"
      ],
      "execution_count": 15,
      "outputs": []
    },
    {
      "cell_type": "code",
      "metadata": {
        "colab": {
          "base_uri": "https://localhost:8080/"
        },
        "id": "caz_vb0Rv_Qq",
        "outputId": "3d28dde1-f3f2-47ed-bf29-d7d93d8eea36"
      },
      "source": [
        "np.sum(predictions == true_labels) / len(true_labels)"
      ],
      "execution_count": 16,
      "outputs": [
        {
          "output_type": "execute_result",
          "data": {
            "text/plain": [
              "0.7391304347826086"
            ]
          },
          "metadata": {
            "tags": []
          },
          "execution_count": 16
        }
      ]
    },
    {
      "cell_type": "markdown",
      "metadata": {
        "id": "130M3mzOCCYp"
      },
      "source": [
        "We return approximately around 75% accuracy on the 3 functional class labels. \n",
        "\n",
        "**Note**: This final prediction will be the output of the actual implementation."
      ]
    },
    {
      "cell_type": "markdown",
      "metadata": {
        "id": "twLAuWmUBkpR"
      },
      "source": [
        "## Predictions on \"Uncurated function\" star alleles\n",
        "\n",
        "Here, we attempt predictions on the uncurated functional alleles that were present in the original dataset. Since the original paper also yields predictions on these alleles, I've taken it as a good guage at how similar the original Hubble.2d6 and my albeit incomplete model \"think\"."
      ]
    },
    {
      "cell_type": "code",
      "metadata": {
        "id": "orC5H_ZFxoyq"
      },
      "source": [
        "_uncurated_predictions = model.predict(uncurated_X)\n",
        "uncurated_predictions = get_functions(_uncurated_predictions)"
      ],
      "execution_count": 17,
      "outputs": []
    },
    {
      "cell_type": "code",
      "metadata": {
        "colab": {
          "base_uri": "https://localhost:8080/"
        },
        "id": "W-qoI_Gwx7xr",
        "outputId": "c6fe75b3-aa1d-41ba-f883-028de8a4c4ee"
      },
      "source": [
        "list(zip(uncurated_samples, uncurated_predictions))"
      ],
      "execution_count": 18,
      "outputs": [
        {
          "output_type": "execute_result",
          "data": {
            "text/plain": [
              "[('CYP2D6_102_vcf', 'Normal'),\n",
              " ('CYP2D6_103_vcf', 'Normal'),\n",
              " ('CYP2D6_104_vcf', 'Decreased Function'),\n",
              " ('CYP2D6_105_vcf', 'Decreased Function'),\n",
              " ('CYP2D6_106_vcf', 'Decreased Function'),\n",
              " ('CYP2D6_107_vcf', 'Decreased Function'),\n",
              " ('CYP2D6_108_vcf', 'Normal'),\n",
              " ('CYP2D6_109_vcf', 'Decreased Function'),\n",
              " ('CYP2D6_110_vcf', 'Decreased Function'),\n",
              " ('CYP2D6_111_vcf', 'Decreased Function'),\n",
              " ('CYP2D6_112_vcf', 'Normal'),\n",
              " ('CYP2D6_113_vcf', 'Decreased Function'),\n",
              " ('CYP2D6_115_vcf', 'Decreased Function'),\n",
              " ('CYP2D6_116_vcf', 'Normal'),\n",
              " ('CYP2D6_117_vcf', 'No function'),\n",
              " ('CYP2D6_118_vcf', 'Normal'),\n",
              " ('CYP2D6_119_vcf', 'Decreased Function'),\n",
              " ('CYP2D6_120_vcf', 'No function'),\n",
              " ('CYP2D6_121_vcf', 'Normal'),\n",
              " ('CYP2D6_122_vcf', 'No function'),\n",
              " ('CYP2D6_123_vcf', 'Decreased Function'),\n",
              " ('CYP2D6_124_vcf', 'No function'),\n",
              " ('CYP2D6_125_vcf', 'No function'),\n",
              " ('CYP2D6_126_vcf', 'Decreased Function'),\n",
              " ('CYP2D6_127_vcf', 'Normal'),\n",
              " ('CYP2D6_128_vcf', 'No function'),\n",
              " ('CYP2D6_129_vcf', 'No function'),\n",
              " ('CYP2D6_130_vcf', 'Decreased Function'),\n",
              " ('CYP2D6_131_vcf', 'No function'),\n",
              " ('CYP2D6_132_vcf', 'Decreased Function'),\n",
              " ('CYP2D6_133_vcf', 'Decreased Function'),\n",
              " ('CYP2D6_134_vcf', 'Decreased Function'),\n",
              " ('CYP2D6_135_vcf', 'No function'),\n",
              " ('CYP2D6_136_vcf', 'Decreased Function'),\n",
              " ('CYP2D6_137_vcf', 'Decreased Function'),\n",
              " ('CYP2D6_138_vcf', 'Decreased Function'),\n",
              " ('CYP2D6_139_vcf', 'Decreased Function'),\n",
              " ('CYP2D6_22_vcf', 'No function'),\n",
              " ('CYP2D6_23_vcf', 'Normal'),\n",
              " ('CYP2D6_24_vcf', 'Normal'),\n",
              " ('CYP2D6_25_vcf', 'Normal'),\n",
              " ('CYP2D6_26_vcf', 'Normal'),\n",
              " ('CYP2D6_28_vcf', 'Decreased Function'),\n",
              " ('CYP2D6_30_vcf', 'No function'),\n",
              " ('CYP2D6_32_vcf', 'Normal'),\n",
              " ('CYP2D6_37_vcf', 'Decreased Function'),\n",
              " ('CYP2D6_43_vcf', 'No function'),\n",
              " ('CYP2D6_52_vcf', 'Decreased Function'),\n",
              " ('CYP2D6_58_vcf', 'No function'),\n",
              " ('CYP2D6_64_vcf', 'No function'),\n",
              " ('CYP2D6_65_vcf', 'No function'),\n",
              " ('CYP2D6_70_vcf', 'No function'),\n",
              " ('CYP2D6_71_vcf', 'Normal'),\n",
              " ('CYP2D6_73_vcf', 'No function'),\n",
              " ('CYP2D6_74_vcf', 'No function'),\n",
              " ('CYP2D6_75_vcf', 'Normal'),\n",
              " ('CYP2D6_81_vcf', 'Normal'),\n",
              " ('CYP2D6_82_vcf', 'Decreased Function'),\n",
              " ('CYP2D6_83_vcf', 'No function'),\n",
              " ('CYP2D6_85_vcf', 'No function'),\n",
              " ('CYP2D6_86_vcf', 'Normal'),\n",
              " ('CYP2D6_87_vcf', 'Normal'),\n",
              " ('CYP2D6_88_vcf', 'No function'),\n",
              " ('CYP2D6_89_vcf', 'Normal'),\n",
              " ('CYP2D6_90_vcf', 'Normal'),\n",
              " ('CYP2D6_91_vcf', 'Normal'),\n",
              " ('CYP2D6_93_vcf', 'Normal'),\n",
              " ('CYP2D6_94_vcf', 'Decreased Function'),\n",
              " ('CYP2D6_95_vcf', 'Decreased Function'),\n",
              " ('CYP2D6_97_vcf', 'Normal'),\n",
              " ('CYP2D6_98_vcf', 'No function')]"
            ]
          },
          "metadata": {
            "tags": []
          },
          "execution_count": 18
        }
      ]
    }
  ]
}