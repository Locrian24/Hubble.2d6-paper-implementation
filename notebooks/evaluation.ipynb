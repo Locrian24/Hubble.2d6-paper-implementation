{
  "nbformat": 4,
  "nbformat_minor": 0,
  "metadata": {
    "colab": {
      "name": "evaluation.ipynb",
      "provenance": []
    },
    "kernelspec": {
      "name": "python3",
      "display_name": "Python 3"
    },
    "language_info": {
      "name": "python"
    }
  },
  "cells": [
    {
      "cell_type": "markdown",
      "metadata": {
        "id": "CzNPvBo4H74e"
      },
      "source": [
        "# IMPORTANT\n",
        "\n",
        "We are using Hubble.2d6 predictions that have been made on pre-computed embeddings only. They are not the same as those in the Excel file"
      ]
    },
    {
      "cell_type": "code",
      "metadata": {
        "id": "vSgKNBjezeXf"
      },
      "source": [
        "import numpy as np\n",
        "import pandas as pd\n",
        "import tensorflow as tf"
      ],
      "execution_count": null,
      "outputs": []
    },
    {
      "cell_type": "code",
      "metadata": {
        "colab": {
          "base_uri": "https://localhost:8080/"
        },
        "id": "YFcwacQSzl2s",
        "outputId": "90e5e273-a990-4fbf-caed-c9f0dc4f2b4d"
      },
      "source": [
        "!git clone https://github.com/Locrian24/seng474-term-project.git\n",
        "!cd seng474-term-project/ && git pull"
      ],
      "execution_count": null,
      "outputs": [
        {
          "output_type": "stream",
          "text": [
            "fatal: destination path 'seng474-term-project' already exists and is not an empty directory.\n",
            "Already up to date.\n"
          ],
          "name": "stdout"
        }
      ]
    },
    {
      "cell_type": "code",
      "metadata": {
        "colab": {
          "base_uri": "https://localhost:8080/"
        },
        "id": "tdQ3Z4lrzqsa",
        "outputId": "eb3934b5-c045-439e-d64c-c7f6b3b8ebbf"
      },
      "source": [
        "!git clone https://github.com/gregmcinnes/Hubble2D6.git"
      ],
      "execution_count": null,
      "outputs": [
        {
          "output_type": "stream",
          "text": [
            "fatal: destination path 'Hubble2D6' already exists and is not an empty directory.\n"
          ],
          "name": "stdout"
        }
      ]
    },
    {
      "cell_type": "code",
      "metadata": {
        "id": "xsyZi3Hp1g2z"
      },
      "source": [
        "hubble_prediction = \"\"\"CYP2D6_100_001\tNo Function\n",
        "CYP2D6_10_001\tNo Function\n",
        "CYP2D6_10_002\tNo Function\n",
        "CYP2D6_10_003\tNo Function\n",
        "CYP2D6_10_004\tNo Function\n",
        "CYP2D6_1_001\tNormal Function\n",
        "CYP2D6_1_002\tNormal Function\n",
        "CYP2D6_1_003\tNormal Function\n",
        "CYP2D6_1_004\tNormal Function\n",
        "CYP2D6_1_005\tNormal Function\n",
        "CYP2D6_1_006\tNormal Function\n",
        "CYP2D6_1_007\tDecreased Function\n",
        "CYP2D6_1_008\tNormal Function\n",
        "CYP2D6_1_009\tNormal Function\n",
        "CYP2D6_100_vcf\tDecreased Function\n",
        "CYP2D6_101_001\tNo Function\n",
        "CYP2D6_1_010\tNormal Function\n",
        "CYP2D6_1_011\tNormal Function\n",
        "CYP2D6_1_012\tNormal Function\n",
        "CYP2D6_1_013\tNormal Function\n",
        "CYP2D6_1_014\tNormal Function\n",
        "CYP2D6_1_015\tNormal Function\n",
        "CYP2D6_1_016\tNormal Function\n",
        "CYP2D6_1_017\tNormal Function\n",
        "CYP2D6_1_018\tNormal Function\n",
        "CYP2D6_1_019\tNormal Function\n",
        "CYP2D6_101_vcf\tDecreased Function\n",
        "CYP2D6_102_001\tDecreased Function\n",
        "CYP2D6_1_020\tNormal Function\n",
        "CYP2D6_1_021\tNormal Function\n",
        "CYP2D6_1_022\tNormal Function\n",
        "CYP2D6_1_023\tNormal Function\n",
        "CYP2D6_1_024\tNormal Function\n",
        "CYP2D6_1_025\tNormal Function\n",
        "CYP2D6_1_026\tNormal Function\n",
        "CYP2D6_1_027\tNormal Function\n",
        "CYP2D6_1_028\tNormal Function\n",
        "CYP2D6_1_029\tNormal Function\n",
        "CYP2D6_102_vcf\tDecreased Function\n",
        "CYP2D6_103_001\tDecreased Function\n",
        "CYP2D6_1_030\tNormal Function\n",
        "CYP2D6_1_031\tNormal Function\n",
        "CYP2D6_1_032\tNormal Function\n",
        "CYP2D6_103_vcf\tDecreased Function\n",
        "CYP2D6_104_001\tDecreased Function\n",
        "CYP2D6_104_vcf\tDecreased Function\n",
        "CYP2D6_105_001\tDecreased Function\n",
        "CYP2D6_105_vcf\tDecreased Function\n",
        "CYP2D6_106_001\tNormal Function\n",
        "CYP2D6_106_002\tNormal Function\n",
        "CYP2D6_106_vcf\tDecreased Function\n",
        "CYP2D6_107_001\tNormal Function\n",
        "CYP2D6_107_vcf\tDecreased Function\n",
        "CYP2D6_108_001\tNormal Function\n",
        "CYP2D6_108_vcf\tDecreased Function\n",
        "CYP2D6_109_001\tNormal Function\n",
        "CYP2D6_109_vcf\tDecreased Function\n",
        "CYP2D6_10_vcf\tDecreased Function\n",
        "CYP2D6_110_001\tDecreased Function\n",
        "CYP2D6_11_001\tNo Function\n",
        "CYP2D6_110_vcf\tDecreased Function\n",
        "CYP2D6_111_001\tDecreased Function\n",
        "CYP2D6_111_002\tDecreased Function\n",
        "CYP2D6_111_vcf\tDecreased Function\n",
        "CYP2D6_112_001\tNormal Function\n",
        "CYP2D6_112_vcf\tDecreased Function\n",
        "CYP2D6_113_001\tDecreased Function\n",
        "CYP2D6_113_vcf\tDecreased Function\n",
        "CYP2D6_114_001\tNo Function\n",
        "CYP2D6_114_vcf\tDecreased Function\n",
        "CYP2D6_115_001\tNormal Function\n",
        "CYP2D6_115_vcf\tDecreased Function\n",
        "CYP2D6_116_001\tNormal Function\n",
        "CYP2D6_116_vcf\tDecreased Function\n",
        "CYP2D6_117_001\tDecreased Function\n",
        "CYP2D6_117_vcf\tDecreased Function\n",
        "CYP2D6_118_001\tNormal Function\n",
        "CYP2D6_118_vcf\tDecreased Function\n",
        "CYP2D6_119_001\tDecreased Function\n",
        "CYP2D6_119_vcf\tNo Function\n",
        "CYP2D6_11_vcf\tNo Function\n",
        "CYP2D6_120_001\tNormal Function\n",
        "CYP2D6_12_001\tNo Function\n",
        "CYP2D6_12_002\tNo Function\n",
        "CYP2D6_120_vcf\tDecreased Function\n",
        "CYP2D6_121_001\tDecreased Function\n",
        "CYP2D6_121_vcf\tDecreased Function\n",
        "CYP2D6_122_001\tNormal Function\n",
        "CYP2D6_122_vcf\tDecreased Function\n",
        "CYP2D6_123_001\tNo Function\n",
        "CYP2D6_123_vcf\tNo Function\n",
        "CYP2D6_124_001\tDecreased Function\n",
        "CYP2D6_124_vcf\tNo Function\n",
        "CYP2D6_125_001\tNormal Function\n",
        "CYP2D6_125_vcf\tDecreased Function\n",
        "CYP2D6_126_001\tDecreased Function\n",
        "CYP2D6_126_vcf\tDecreased Function\n",
        "CYP2D6_127_001\tDecreased Function\n",
        "CYP2D6_127_vcf\tDecreased Function\n",
        "CYP2D6_128_001\tDecreased Function\n",
        "CYP2D6_128_vcf\tDecreased Function\n",
        "CYP2D6_129_001\tDecreased Function\n",
        "CYP2D6_129_vcf\tDecreased Function\n",
        "CYP2D6_12_vcf\tNo Function\n",
        "CYP2D6_130_001\tDecreased Function\n",
        "CYP2D6_130_vcf\tDecreased Function\n",
        "CYP2D6_131_001\tNormal Function\n",
        "CYP2D6_131_vcf\tDecreased Function\n",
        "CYP2D6_132_001\tNo Function\n",
        "CYP2D6_132_vcf\tNo Function\n",
        "CYP2D6_133_001\tDecreased Function\n",
        "CYP2D6_133_vcf\tDecreased Function\n",
        "CYP2D6_134_001\tNormal Function\n",
        "CYP2D6_134_vcf\tDecreased Function\n",
        "CYP2D6_135_001\tDecreased Function\n",
        "CYP2D6_135_vcf\tDecreased Function\n",
        "CYP2D6_136_001\tDecreased Function\n",
        "CYP2D6_136_vcf\tDecreased Function\n",
        "CYP2D6_137_001\tNormal Function\n",
        "CYP2D6_137_vcf\tDecreased Function\n",
        "CYP2D6_138_001\tNo Function\n",
        "CYP2D6_138_vcf\tNo Function\n",
        "CYP2D6_139_001\tNormal Function\n",
        "CYP2D6_139_vcf\tDecreased Function\n",
        "CYP2D6_14_001\tDecreased Function\n",
        "CYP2D6_14_vcf\tDecreased Function\n",
        "CYP2D6_15_001\tNormal Function\n",
        "CYP2D6_15_002\tNormal Function\n",
        "CYP2D6_15_003\tDecreased Function\n",
        "CYP2D6_15_vcf\tDecreased Function\n",
        "CYP2D6_17_001\tDecreased Function\n",
        "CYP2D6_17_002\tDecreased Function\n",
        "CYP2D6_17_003\tDecreased Function\n",
        "CYP2D6_17_vcf\tDecreased Function\n",
        "CYP2D6_18_001\tNormal Function\n",
        "CYP2D6_18_vcf\tDecreased Function\n",
        "CYP2D6_19_001\tDecreased Function\n",
        "CYP2D6_19_vcf\tDecreased Function\n",
        "CYP2D6_20_001\tNo Function\n",
        "CYP2D6_2_001\tDecreased Function\n",
        "CYP2D6_2_002\tDecreased Function\n",
        "CYP2D6_2_003\tNormal Function\n",
        "CYP2D6_2_004\tNormal Function\n",
        "CYP2D6_2_005\tDecreased Function\n",
        "CYP2D6_2_006\tNormal Function\n",
        "CYP2D6_2_007\tNormal Function\n",
        "CYP2D6_2_008\tNormal Function\n",
        "CYP2D6_2_009\tDecreased Function\n",
        "CYP2D6_2_010\tNormal Function\n",
        "CYP2D6_2_011\tDecreased Function\n",
        "CYP2D6_2_012\tDecreased Function\n",
        "CYP2D6_2_013\tDecreased Function\n",
        "CYP2D6_2_014\tDecreased Function\n",
        "CYP2D6_2_015\tNormal Function\n",
        "CYP2D6_2_016\tNormal Function\n",
        "CYP2D6_2_017\tDecreased Function\n",
        "CYP2D6_2_018\tDecreased Function\n",
        "CYP2D6_2_019\tDecreased Function\n",
        "CYP2D6_2_020\tDecreased Function\n",
        "CYP2D6_20_vcf\tDecreased Function\n",
        "CYP2D6_21_001\tDecreased Function\n",
        "CYP2D6_21_002\tDecreased Function\n",
        "CYP2D6_21_vcf\tDecreased Function\n",
        "CYP2D6_22_001\tDecreased Function\n",
        "CYP2D6_22_vcf\tDecreased Function\n",
        "CYP2D6_23_001\tNormal Function\n",
        "CYP2D6_23_vcf\tDecreased Function\n",
        "CYP2D6_24_001\tNormal Function\n",
        "CYP2D6_24_vcf\tDecreased Function\n",
        "CYP2D6_25_001\tNormal Function\n",
        "CYP2D6_25_vcf\tDecreased Function\n",
        "CYP2D6_26_001\tNormal Function\n",
        "CYP2D6_26_vcf\tDecreased Function\n",
        "CYP2D6_27_001\tNormal Function\n",
        "CYP2D6_27_vcf\tDecreased Function\n",
        "CYP2D6_28_001\tNo Function\n",
        "CYP2D6_28_002\tDecreased Function\n",
        "CYP2D6_28_vcf\tDecreased Function\n",
        "CYP2D6_29_001\tDecreased Function\n",
        "CYP2D6_29_vcf\tDecreased Function\n",
        "CYP2D6_30_001\tDecreased Function\n",
        "CYP2D6_3_001\tNormal Function\n",
        "CYP2D6_3_002\tNormal Function\n",
        "CYP2D6_30_vcf\tDecreased Function\n",
        "CYP2D6_31_001\tNo Function\n",
        "CYP2D6_31_vcf\tNo Function\n",
        "CYP2D6_32_001\tDecreased Function\n",
        "CYP2D6_32_vcf\tNo Function\n",
        "CYP2D6_33_001\tNormal Function\n",
        "CYP2D6_33_vcf\tDecreased Function\n",
        "CYP2D6_34_001\tNormal Function\n",
        "CYP2D6_35_001\tNormal Function\n",
        "CYP2D6_35_002\tDecreased Function\n",
        "CYP2D6_35_003\tNormal Function\n",
        "CYP2D6_35_004\tNormal Function\n",
        "CYP2D6_35_005\tNormal Function\n",
        "CYP2D6_35_006\tDecreased Function\n",
        "CYP2D6_35_007\tNormal Function\n",
        "CYP2D6_35_vcf\tNormal Function\n",
        "CYP2D6_36_001\tNo Function\n",
        "CYP2D6_36_002\tNo Function\n",
        "CYP2D6_36_vcf\tNo Function\n",
        "CYP2D6_37_001\tNo Function\n",
        "CYP2D6_37_vcf\tDecreased Function\n",
        "CYP2D6_38_001\tNormal Function\n",
        "CYP2D6_38_vcf\tDecreased Function\n",
        "CYP2D6_39_001\tNormal Function\n",
        "CYP2D6_3_vcf\tDecreased Function\n",
        "CYP2D6_40_001\tDecreased Function\n",
        "CYP2D6_4_001\tNo Function\n",
        "CYP2D6_4_002\tNo Function\n",
        "CYP2D6_4_003\tNo Function\n",
        "CYP2D6_4_004\tNo Function\n",
        "CYP2D6_4_005\tNo Function\n",
        "CYP2D6_4_006\tNo Function\n",
        "CYP2D6_4_007\tNo Function\n",
        "CYP2D6_4_008\tNo Function\n",
        "CYP2D6_4_009\tNo Function\n",
        "CYP2D6_4_010\tNo Function\n",
        "CYP2D6_4_011\tNo Function\n",
        "CYP2D6_4_012\tNo Function\n",
        "CYP2D6_4_013\tNo Function\n",
        "CYP2D6_4_014\tNo Function\n",
        "CYP2D6_4_015\tNo Function\n",
        "CYP2D6_4_016\tNo Function\n",
        "CYP2D6_4_017\tNo Function\n",
        "CYP2D6_4_018\tNo Function\n",
        "CYP2D6_4_019\tNo Function\n",
        "CYP2D6_4_020\tNo Function\n",
        "CYP2D6_4_021\tNo Function\n",
        "CYP2D6_4_022\tNo Function\n",
        "CYP2D6_4_023\tNo Function\n",
        "CYP2D6_4_024\tNo Function\n",
        "CYP2D6_4_025\tNo Function\n",
        "CYP2D6_4_026\tNo Function\n",
        "CYP2D6_4_027\tNo Function\n",
        "CYP2D6_4_028\tNo Function\n",
        "CYP2D6_40_vcf\tDecreased Function\n",
        "CYP2D6_41_001\tNo Function\n",
        "CYP2D6_41_002\tDecreased Function\n",
        "CYP2D6_41_003\tNo Function\n",
        "CYP2D6_41_004\tNo Function\n",
        "CYP2D6_41_005\tNo Function\n",
        "CYP2D6_41_vcf\tNo Function\n",
        "CYP2D6_42_001\tDecreased Function\n",
        "CYP2D6_42_vcf\tDecreased Function\n",
        "CYP2D6_43_001\tDecreased Function\n",
        "CYP2D6_43_002\tDecreased Function\n",
        "CYP2D6_43_vcf\tDecreased Function\n",
        "CYP2D6_44_001\tNo Function\n",
        "CYP2D6_44_vcf\tNo Function\n",
        "CYP2D6_45_001\tNormal Function\n",
        "CYP2D6_45_002\tNormal Function\n",
        "CYP2D6_45_vcf\tDecreased Function\n",
        "CYP2D6_46_001\tDecreased Function\n",
        "CYP2D6_46_002\tDecreased Function\n",
        "CYP2D6_46_003\tDecreased Function\n",
        "CYP2D6_46_vcf\tDecreased Function\n",
        "CYP2D6_47_001\tNo Function\n",
        "CYP2D6_47_vcf\tNo Function\n",
        "CYP2D6_48_001\tNormal Function\n",
        "CYP2D6_48_vcf\tDecreased Function\n",
        "CYP2D6_49_001\tNo Function\n",
        "CYP2D6_49_vcf\tDecreased Function\n",
        "CYP2D6_4_vcf\tNo Function\n",
        "CYP2D6_50_001\tNormal Function\n",
        "CYP2D6_50_vcf\tDecreased Function\n",
        "CYP2D6_51_001\tNo Function\n",
        "CYP2D6_51_vcf\tNo Function\n",
        "CYP2D6_52_001\tNo Function\n",
        "CYP2D6_52_002\tNo Function\n",
        "CYP2D6_52_vcf\tDecreased Function\n",
        "CYP2D6_53_001\tNormal Function\n",
        "CYP2D6_53_vcf\tDecreased Function\n",
        "CYP2D6_54_001\tNo Function\n",
        "CYP2D6_54_vcf\tNo Function\n",
        "CYP2D6_55_001\tDecreased Function\n",
        "CYP2D6_55_vcf\tDecreased Function\n",
        "CYP2D6_56_001\tNo Function\n",
        "CYP2D6_56_002\tNo Function\n",
        "CYP2D6_56_003\tNo Function\n",
        "CYP2D6_56_vcf\tNo Function\n",
        "CYP2D6_57_001\tNo Function\n",
        "CYP2D6_57_vcf\tNo Function\n",
        "CYP2D6_58_001\tDecreased Function\n",
        "CYP2D6_58_vcf\tDecreased Function\n",
        "CYP2D6_59_001\tDecreased Function\n",
        "CYP2D6_59_vcf\tDecreased Function\n",
        "CYP2D6_60_001\tNo Function\n",
        "CYP2D6_6_001\tNormal Function\n",
        "CYP2D6_6_002\tNormal Function\n",
        "CYP2D6_6_003\tNormal Function\n",
        "CYP2D6_6_004\tNormal Function\n",
        "CYP2D6_6_005\tNormal Function\n",
        "CYP2D6_6_006\tNormal Function\n",
        "CYP2D6_60_vcf\tNo Function\n",
        "CYP2D6_62_001\tNo Function\n",
        "CYP2D6_62_vcf\tNo Function\n",
        "CYP2D6_64_001\tNo Function\n",
        "CYP2D6_64_vcf\tDecreased Function\n",
        "CYP2D6_65_001\tDecreased Function\n",
        "CYP2D6_65_vcf\tDecreased Function\n",
        "CYP2D6_69_001\tNo Function\n",
        "CYP2D6_69_vcf\tNo Function\n",
        "CYP2D6_6_vcf\tDecreased Function\n",
        "CYP2D6_70_001\tDecreased Function\n",
        "CYP2D6_7_001\tNo Function\n",
        "CYP2D6_70_vcf\tDecreased Function\n",
        "CYP2D6_71_001\tNormal Function\n",
        "CYP2D6_71_002\tNormal Function\n",
        "CYP2D6_71_003\tNormal Function\n",
        "CYP2D6_71_vcf\tDecreased Function\n",
        "CYP2D6_72_001\tNo Function\n",
        "CYP2D6_72_vcf\tNo Function\n",
        "CYP2D6_73_001\tDecreased Function\n",
        "CYP2D6_73_vcf\tDecreased Function\n",
        "CYP2D6_74_001\tDecreased Function\n",
        "CYP2D6_74_vcf\tDecreased Function\n",
        "CYP2D6_75_001\tNormal Function\n",
        "CYP2D6_75_vcf\tDecreased Function\n",
        "CYP2D6_7_vcf\tNo Function\n",
        "CYP2D6_8_001\tDecreased Function\n",
        "CYP2D6_81_001\tDecreased Function\n",
        "CYP2D6_81_vcf\tNo Function\n",
        "CYP2D6_82_001\tNormal Function\n",
        "CYP2D6_82_vcf\tDecreased Function\n",
        "CYP2D6_83_001\tDecreased Function\n",
        "CYP2D6_83_002\tDecreased Function\n",
        "CYP2D6_83_003\tDecreased Function\n",
        "CYP2D6_83_vcf\tNo Function\n",
        "CYP2D6_84_001\tNo Function\n",
        "CYP2D6_84_002\tNo Function\n",
        "CYP2D6_84_vcf\tNo Function\n",
        "CYP2D6_85_001\tNormal Function\n",
        "CYP2D6_85_vcf\tDecreased Function\n",
        "CYP2D6_86_001\tNormal Function\n",
        "CYP2D6_86_vcf\tDecreased Function\n",
        "CYP2D6_87_001\tDecreased Function\n",
        "CYP2D6_87_vcf\tDecreased Function\n",
        "CYP2D6_88_001\tDecreased Function\n",
        "CYP2D6_88_vcf\tDecreased Function\n",
        "CYP2D6_89_001\tNormal Function\n",
        "CYP2D6_89_vcf\tDecreased Function\n",
        "CYP2D6_8_vcf\tDecreased Function\n",
        "CYP2D6_90_001\tNormal Function\n",
        "CYP2D6_9_001\tNormal Function\n",
        "CYP2D6_9_002\tNormal Function\n",
        "CYP2D6_90_vcf\tDecreased Function\n",
        "CYP2D6_91_001\tDecreased Function\n",
        "CYP2D6_91_vcf\tDecreased Function\n",
        "CYP2D6_92_001\tNormal Function\n",
        "CYP2D6_92_vcf\tDecreased Function\n",
        "CYP2D6_93_001\tNormal Function\n",
        "CYP2D6_93_vcf\tDecreased Function\n",
        "CYP2D6_94_001\tNo Function\n",
        "CYP2D6_94_002\tNo Function\n",
        "CYP2D6_94_vcf\tNo Function\n",
        "CYP2D6_95_001\tDecreased Function\n",
        "CYP2D6_95_vcf\tDecreased Function\n",
        "CYP2D6_96_001\tNo Function\n",
        "CYP2D6_96_vcf\tNo Function\n",
        "CYP2D6_97_001\tNormal Function\n",
        "CYP2D6_97_vcf\tDecreased Function\n",
        "CYP2D6_98_001\tDecreased Function\n",
        "CYP2D6_98_vcf\tDecreased Function\n",
        "CYP2D6_99_001\tNo Function\n",
        "CYP2D6_99_vcf\tNo Function\n",
        "CYP2D6_9_vcf\tDecreased Function\"\"\""
      ],
      "execution_count": null,
      "outputs": []
    },
    {
      "cell_type": "code",
      "metadata": {
        "id": "03RWv3tB180x"
      },
      "source": [
        "hubble_predictions = []\n",
        "for line in hubble_prediction.split('\\n'):\n",
        "  split = line.split('\\t')\n",
        "\n",
        "  haplotype = split[0]\n",
        "  function = split[1]\n",
        "\n",
        "  if haplotype.split(\"_\")[-1] != \"001\":\n",
        "    continue\n",
        "\n",
        "  hubble_predictions.append((haplotype, function))"
      ],
      "execution_count": null,
      "outputs": []
    },
    {
      "cell_type": "code",
      "metadata": {
        "id": "6isZRELh38SE"
      },
      "source": [
        "hubble_df = pd.DataFrame(hubble_predictions, columns=[\"haplotype\", \"hubble\"])"
      ],
      "execution_count": null,
      "outputs": []
    },
    {
      "cell_type": "code",
      "metadata": {
        "id": "5otcDjlEzvwn"
      },
      "source": [
        "import sys\n",
        "sys.path.insert(0, '/content/seng474-term-project/model')"
      ],
      "execution_count": null,
      "outputs": []
    },
    {
      "cell_type": "code",
      "metadata": {
        "id": "fIFzJLdP1LPb"
      },
      "source": [
        "# Global variables rn for testing\n",
        "\n",
        "ANNOTATIONS = '/content/seng474-term-project/data/gvcf2seq.annotation_embeddings.csv'\n",
        "EMBEDDINGS = '/content/seng474-term-project/data/embeddings.txt'\n",
        "REF = '/content/seng474-term-project/data/ref.seq'\n",
        "\n",
        "VCF = '/content/seng474-term-project/step3/data/star_samples.vcf'\n",
        "LABELS = '/content/seng474-term-project/step3/data/labels.csv'"
      ],
      "execution_count": null,
      "outputs": []
    },
    {
      "cell_type": "code",
      "metadata": {
        "id": "rwKOiKMRz80k"
      },
      "source": [
        "import hubble"
      ],
      "execution_count": null,
      "outputs": []
    },
    {
      "cell_type": "code",
      "metadata": {
        "colab": {
          "base_uri": "https://localhost:8080/"
        },
        "id": "QJ-2B3eS0Jly",
        "outputId": "a64ef619-e01a-4903-a6cb-4c55070ac6b6"
      },
      "source": [
        "hobble = hubble.main(VCF, verbose=False)"
      ],
      "execution_count": null,
      "outputs": [
        {
          "output_type": "stream",
          "text": [
            "Predicting using /content/seng474-term-project/model/../data/ensemble_models/ensemble_0.model.h5\n",
            "Predicting using /content/seng474-term-project/model/../data/ensemble_models/ensemble_5.model.h5\n",
            "Predicting using /content/seng474-term-project/model/../data/ensemble_models/ensemble_6.model.h5\n",
            "Predicting using /content/seng474-term-project/model/../data/ensemble_models/ensemble_1.model.h5\n",
            "Predicting using /content/seng474-term-project/model/../data/ensemble_models/ensemble_3.model.h5\n",
            "Predicting using /content/seng474-term-project/model/../data/ensemble_models/ensemble_2.model.h5\n",
            "Predicting using /content/seng474-term-project/model/../data/ensemble_models/ensemble_4.model.h5\n"
          ],
          "name": "stdout"
        }
      ]
    },
    {
      "cell_type": "code",
      "metadata": {
        "id": "Pg7-suKD5I9D"
      },
      "source": [
        "hobble_df = pd.DataFrame(hobble, columns=[\"haplotype\", \"hobble\"])\n",
        "hobble_df = hobble_df[hobble_df[\"haplotype\"].str.contains(\"001\")].reset_index(drop=True)"
      ],
      "execution_count": null,
      "outputs": []
    },
    {
      "cell_type": "code",
      "metadata": {
        "id": "YYCEGR1u6Oby"
      },
      "source": [
        "predictions = pd.concat([hubble_df, hobble_df['hobble']], axis=1)"
      ],
      "execution_count": null,
      "outputs": []
    },
    {
      "cell_type": "code",
      "metadata": {
        "colab": {
          "base_uri": "https://localhost:8080/",
          "height": 204
        },
        "id": "oSYfrjX76q4L",
        "outputId": "1fff3c78-1af6-4c98-a36f-7f63c35587f5"
      },
      "source": [
        "predictions.head()"
      ],
      "execution_count": null,
      "outputs": [
        {
          "output_type": "execute_result",
          "data": {
            "text/html": [
              "<div>\n",
              "<style scoped>\n",
              "    .dataframe tbody tr th:only-of-type {\n",
              "        vertical-align: middle;\n",
              "    }\n",
              "\n",
              "    .dataframe tbody tr th {\n",
              "        vertical-align: top;\n",
              "    }\n",
              "\n",
              "    .dataframe thead th {\n",
              "        text-align: right;\n",
              "    }\n",
              "</style>\n",
              "<table border=\"1\" class=\"dataframe\">\n",
              "  <thead>\n",
              "    <tr style=\"text-align: right;\">\n",
              "      <th></th>\n",
              "      <th>haplotype</th>\n",
              "      <th>hubble</th>\n",
              "      <th>hobble</th>\n",
              "    </tr>\n",
              "  </thead>\n",
              "  <tbody>\n",
              "    <tr>\n",
              "      <th>0</th>\n",
              "      <td>CYP2D6_100_001</td>\n",
              "      <td>No Function</td>\n",
              "      <td>Decreased Function</td>\n",
              "    </tr>\n",
              "    <tr>\n",
              "      <th>1</th>\n",
              "      <td>CYP2D6_10_001</td>\n",
              "      <td>No Function</td>\n",
              "      <td>Decreased Function</td>\n",
              "    </tr>\n",
              "    <tr>\n",
              "      <th>2</th>\n",
              "      <td>CYP2D6_1_001</td>\n",
              "      <td>Normal Function</td>\n",
              "      <td>Decreased Function</td>\n",
              "    </tr>\n",
              "    <tr>\n",
              "      <th>3</th>\n",
              "      <td>CYP2D6_101_001</td>\n",
              "      <td>No Function</td>\n",
              "      <td>No Function</td>\n",
              "    </tr>\n",
              "    <tr>\n",
              "      <th>4</th>\n",
              "      <td>CYP2D6_102_001</td>\n",
              "      <td>Decreased Function</td>\n",
              "      <td>Decreased Function</td>\n",
              "    </tr>\n",
              "  </tbody>\n",
              "</table>\n",
              "</div>"
            ],
            "text/plain": [
              "        haplotype              hubble              hobble\n",
              "0  CYP2D6_100_001         No Function  Decreased Function\n",
              "1   CYP2D6_10_001         No Function  Decreased Function\n",
              "2    CYP2D6_1_001     Normal Function  Decreased Function\n",
              "3  CYP2D6_101_001         No Function         No Function\n",
              "4  CYP2D6_102_001  Decreased Function  Decreased Function"
            ]
          },
          "metadata": {
            "tags": []
          },
          "execution_count": 97
        }
      ]
    },
    {
      "cell_type": "code",
      "metadata": {
        "colab": {
          "base_uri": "https://localhost:8080/",
          "height": 173
        },
        "id": "19o9ER87_81O",
        "outputId": "36ef0ff5-0af8-4383-d65c-d475d9d03f85"
      },
      "source": [
        "matching_mask = predictions['hubble'] == predictions['hobble']\n",
        "predictions[matching_mask].groupby('hubble').count()"
      ],
      "execution_count": null,
      "outputs": [
        {
          "output_type": "execute_result",
          "data": {
            "text/html": [
              "<div>\n",
              "<style scoped>\n",
              "    .dataframe tbody tr th:only-of-type {\n",
              "        vertical-align: middle;\n",
              "    }\n",
              "\n",
              "    .dataframe tbody tr th {\n",
              "        vertical-align: top;\n",
              "    }\n",
              "\n",
              "    .dataframe thead th {\n",
              "        text-align: right;\n",
              "    }\n",
              "</style>\n",
              "<table border=\"1\" class=\"dataframe\">\n",
              "  <thead>\n",
              "    <tr style=\"text-align: right;\">\n",
              "      <th></th>\n",
              "      <th>haplotype</th>\n",
              "      <th>hobble</th>\n",
              "    </tr>\n",
              "    <tr>\n",
              "      <th>hubble</th>\n",
              "      <th></th>\n",
              "      <th></th>\n",
              "    </tr>\n",
              "  </thead>\n",
              "  <tbody>\n",
              "    <tr>\n",
              "      <th>Decreased Function</th>\n",
              "      <td>26</td>\n",
              "      <td>26</td>\n",
              "    </tr>\n",
              "    <tr>\n",
              "      <th>No Function</th>\n",
              "      <td>19</td>\n",
              "      <td>19</td>\n",
              "    </tr>\n",
              "    <tr>\n",
              "      <th>Normal Function</th>\n",
              "      <td>31</td>\n",
              "      <td>31</td>\n",
              "    </tr>\n",
              "  </tbody>\n",
              "</table>\n",
              "</div>"
            ],
            "text/plain": [
              "                    haplotype  hobble\n",
              "hubble                               \n",
              "Decreased Function         26      26\n",
              "No Function                19      19\n",
              "Normal Function            31      31"
            ]
          },
          "metadata": {
            "tags": []
          },
          "execution_count": 98
        }
      ]
    },
    {
      "cell_type": "code",
      "metadata": {
        "colab": {
          "base_uri": "https://localhost:8080/"
        },
        "id": "cQau0F3B8F1x",
        "outputId": "676b3bc7-8f3f-4e2a-c000-c8926ce09ea9"
      },
      "source": [
        "predictions[matching_mask].shape[0] / predictions.shape[0]"
      ],
      "execution_count": null,
      "outputs": [
        {
          "output_type": "execute_result",
          "data": {
            "text/plain": [
              "0.6031746031746031"
            ]
          },
          "metadata": {
            "tags": []
          },
          "execution_count": 99
        }
      ]
    },
    {
      "cell_type": "code",
      "metadata": {
        "id": "QxSEaNYBAVNZ"
      },
      "source": [
        "import seaborn as sb\n",
        "import matplotlib.pyplot as plt"
      ],
      "execution_count": null,
      "outputs": []
    },
    {
      "cell_type": "code",
      "metadata": {
        "id": "2xH4zee_Dm9o"
      },
      "source": [
        "def build_heatmap(pred, y, labels):\n",
        "  heatmap = []\n",
        "  for label in labels:\n",
        "    mask = pred == label\n",
        "    masked_labels = y[mask]\n",
        "    heatmap.append([len(masked_labels[masked_labels == l]) for l in reversed(labels)])\n",
        "\n",
        "  return heatmap"
      ],
      "execution_count": null,
      "outputs": []
    },
    {
      "cell_type": "code",
      "metadata": {
        "id": "iMvE7HB5DpXe"
      },
      "source": [
        "labels = ['Normal Function', 'Decreased Function', 'No Function']\n"
      ],
      "execution_count": null,
      "outputs": []
    },
    {
      "cell_type": "code",
      "metadata": {
        "colab": {
          "base_uri": "https://localhost:8080/",
          "height": 422
        },
        "id": "xLNxReS6ENaM",
        "outputId": "96e5d12a-d324-43f8-8b92-371b880fb71d"
      },
      "source": [
        "fig = plt.figure(figsize=(7, 6))\n",
        "# sb.set_palette(sb.color_palette(\"Paired\"))\n",
        "ax = sb.countplot(x='hubble', hue='hobble', data=predictions, order=['No Function', 'Decreased Function', 'Normal Function'], hue_order=['No Function', 'Decreased Function', 'Normal Function'])\n",
        "ax.set_xlabel(\"Hubble.2D6 prediction classes\", fontsize=13, labelpad=12)\n",
        "ax.set_ylabel(\"Count of my predictions per Hubble.2D6 class\", fontsize=13, labelpad=12)\n",
        "plt.legend(title=\"My Implementation\")\n",
        "plt.ylim(0, 40)"
      ],
      "execution_count": null,
      "outputs": [
        {
          "output_type": "execute_result",
          "data": {
            "text/plain": [
              "(0.0, 40.0)"
            ]
          },
          "metadata": {
            "tags": []
          },
          "execution_count": 103
        },
        {
          "output_type": "display_data",
          "data": {
            "image/png": "[encoded data removed]",
            "text/plain": [
              "<Figure size 504x432 with 1 Axes>"
            ]
          },
          "metadata": {
            "tags": [],
            "needs_background": "light"
          }
        }
      ]
    },
    {
      "cell_type": "markdown",
      "metadata": {
        "id": "LrzVXe8SHqDZ"
      },
      "source": [
        "From the bar plot, we see Hobble's tendency to predict a class above the class predicted by Hubble."
      ]
    },
    {
      "cell_type": "code",
      "metadata": {
        "colab": {
          "base_uri": "https://localhost:8080/",
          "height": 418
        },
        "id": "JNMJfp6kAMi4",
        "outputId": "c1b5ca41-fe8c-4f71-dcc4-ab880ad85aa7"
      },
      "source": [
        "heatmap = build_heatmap(predictions['hubble'], predictions['hobble'], labels)\n",
        "fig = plt.figure(figsize=(7, 6))\n",
        "b = sb.heatmap(heatmap, cmap=\"Blues\", annot=heatmap, xticklabels=list(reversed(labels)), yticklabels=labels)\n",
        "b.set_xlabel(\"My Predictions\", fontsize=13, labelpad=12)\n",
        "b.set_ylabel(\"Hubble Predictions\", fontsize=13, labelpad=12)"
      ],
      "execution_count": null,
      "outputs": [
        {
          "output_type": "execute_result",
          "data": {
            "text/plain": [
              "Text(41.99999999999999, 0.5, 'Hubble Predictions')"
            ]
          },
          "metadata": {
            "tags": []
          },
          "execution_count": 123
        },
        {
          "output_type": "display_data",
          "data": {
            "image/png": "[encoded data removed]",
            "text/plain": [
              "<Figure size 504x432 with 2 Axes>"
            ]
          },
          "metadata": {
            "tags": [],
            "needs_background": "light"
          }
        }
      ]
    },
    {
      "cell_type": "markdown",
      "metadata": {
        "id": "14pQdxuPGyYY"
      },
      "source": [
        "Heatmap indicates that Hobble has a tendency to predict a higher metabolic function class than Hubble.2d6. This backs up what we saw with the test set with Hobble, where \"No Function\" star alleles were being misclassified as \"Decreased Function\""
      ]
    },
    {
      "cell_type": "markdown",
      "metadata": {
        "id": "co4PI9py9emb"
      },
      "source": [
        "# Uncurated data"
      ]
    },
    {
      "cell_type": "code",
      "metadata": {
        "id": "65RpAul79hFo",
        "colab": {
          "base_uri": "https://localhost:8080/",
          "height": 235
        },
        "outputId": "f1af576a-9981-44cb-b17b-488926002f6e"
      },
      "source": [
        "df = pd.read_excel('https://doi.org/10.1371/journal.pcbi.1008399.s003', usecols=[0, 1, 2])\n",
        "df = df[df[\"Curated Function\"] == \"Uncurated\"]\n",
        "df = df.drop(columns=\"Curated Function\")\n",
        "df = df.set_index(\"CYP2D6 Star Allele\")\n",
        "\n",
        "df[df['Hubble Predicted Function'] == 'Decreased function'] = 'Decreased Function'\n",
        "df[df['Hubble Predicted Function'] == 'Normal'] = 'Normal Function'\n",
        "df[df['Hubble Predicted Function'] == 'No function'] = 'No Function'\n",
        "\n",
        "df.head()"
      ],
      "execution_count": null,
      "outputs": [
        {
          "output_type": "execute_result",
          "data": {
            "text/html": [
              "<div>\n",
              "<style scoped>\n",
              "    .dataframe tbody tr th:only-of-type {\n",
              "        vertical-align: middle;\n",
              "    }\n",
              "\n",
              "    .dataframe tbody tr th {\n",
              "        vertical-align: top;\n",
              "    }\n",
              "\n",
              "    .dataframe thead th {\n",
              "        text-align: right;\n",
              "    }\n",
              "</style>\n",
              "<table border=\"1\" class=\"dataframe\">\n",
              "  <thead>\n",
              "    <tr style=\"text-align: right;\">\n",
              "      <th></th>\n",
              "      <th>Hubble Predicted Function</th>\n",
              "    </tr>\n",
              "    <tr>\n",
              "      <th>CYP2D6 Star Allele</th>\n",
              "      <th></th>\n",
              "    </tr>\n",
              "  </thead>\n",
              "  <tbody>\n",
              "    <tr>\n",
              "      <th>*22</th>\n",
              "      <td>Decreased Function</td>\n",
              "    </tr>\n",
              "    <tr>\n",
              "      <th>*23</th>\n",
              "      <td>Normal Function</td>\n",
              "    </tr>\n",
              "    <tr>\n",
              "      <th>*24</th>\n",
              "      <td>Normal Function</td>\n",
              "    </tr>\n",
              "    <tr>\n",
              "      <th>*25</th>\n",
              "      <td>Normal Function</td>\n",
              "    </tr>\n",
              "    <tr>\n",
              "      <th>*26</th>\n",
              "      <td>Normal Function</td>\n",
              "    </tr>\n",
              "  </tbody>\n",
              "</table>\n",
              "</div>"
            ],
            "text/plain": [
              "                   Hubble Predicted Function\n",
              "CYP2D6 Star Allele                          \n",
              "*22                       Decreased Function\n",
              "*23                          Normal Function\n",
              "*24                          Normal Function\n",
              "*25                          Normal Function\n",
              "*26                          Normal Function"
            ]
          },
          "metadata": {
            "tags": []
          },
          "execution_count": 105
        }
      ]
    },
    {
      "cell_type": "code",
      "metadata": {
        "id": "bFJTxKgGEiUm"
      },
      "source": [
        "from encode_to_seq import Encode2Seq\n",
        "\n",
        "encoding = Encode2Seq(vcf=VCF, labels=LABELS, label_cols=[0, 1, 2], embedding_file=EMBEDDINGS, annotation_file=ANNOTATIONS, ref_seq=REF)\n",
        "mask = np.all(np.isnan(encoding.y) == True, axis=1)"
      ],
      "execution_count": null,
      "outputs": []
    },
    {
      "cell_type": "code",
      "metadata": {
        "id": "F7qoQ8NvFiFz"
      },
      "source": [
        "uncurated_samples = encoding.sample_names[mask]\n",
        "uncurated_stars = np.array([s for s in uncurated_samples if s.split('_')[-1] == '001'])\n",
        "uncurated_star_mask = np.isin(uncurated_samples, uncurated_stars)\n",
        "\n",
        "uncurated_samples = uncurated_samples[uncurated_star_mask]\n",
        "uncurated_X = encoding.X[(mask).reshape(-1, 1).any(axis=1)]\n",
        "uncurated_X = uncurated_X[uncurated_star_mask]"
      ],
      "execution_count": null,
      "outputs": []
    },
    {
      "cell_type": "code",
      "metadata": {
        "id": "P7Pm-nkyF1UL"
      },
      "source": [
        "df_map = ['*' + s.split(\"_\")[1] for s in uncurated_samples]"
      ],
      "execution_count": null,
      "outputs": []
    },
    {
      "cell_type": "code",
      "metadata": {
        "colab": {
          "base_uri": "https://localhost:8080/"
        },
        "id": "kf_iRzzKGLW_",
        "outputId": "7fd7eb1a-2dbd-44ba-91f1-3d29beacf0e3"
      },
      "source": [
        "from predict import PredictCYP2D6\n",
        "\n",
        "predict = PredictCYP2D6(uncurated_X)"
      ],
      "execution_count": null,
      "outputs": [
        {
          "output_type": "stream",
          "text": [
            "Predicting using /content/seng474-term-project/model/../data/ensemble_models/ensemble_0.model.h5\n",
            "Predicting using /content/seng474-term-project/model/../data/ensemble_models/ensemble_5.model.h5\n",
            "Predicting using /content/seng474-term-project/model/../data/ensemble_models/ensemble_6.model.h5\n",
            "Predicting using /content/seng474-term-project/model/../data/ensemble_models/ensemble_1.model.h5\n",
            "Predicting using /content/seng474-term-project/model/../data/ensemble_models/ensemble_3.model.h5\n",
            "Predicting using /content/seng474-term-project/model/../data/ensemble_models/ensemble_2.model.h5\n",
            "Predicting using /content/seng474-term-project/model/../data/ensemble_models/ensemble_4.model.h5\n"
          ],
          "name": "stdout"
        }
      ]
    },
    {
      "cell_type": "code",
      "metadata": {
        "colab": {
          "base_uri": "https://localhost:8080/",
          "height": 235
        },
        "id": "6R-l6ZqXGM__",
        "outputId": "7ae28bed-8c38-41c7-82fd-32f017792ed7"
      },
      "source": [
        "my_pred = pd.DataFrame(np.c_[df_map, predict.predictions.reshape(-1, 1)], columns=[\"CYP2D6 Star Allele\", \"Prediction\"])\n",
        "my_pred = my_pred.set_index(\"CYP2D6 Star Allele\")\n",
        "my_pred.head()"
      ],
      "execution_count": null,
      "outputs": [
        {
          "output_type": "execute_result",
          "data": {
            "text/html": [
              "<div>\n",
              "<style scoped>\n",
              "    .dataframe tbody tr th:only-of-type {\n",
              "        vertical-align: middle;\n",
              "    }\n",
              "\n",
              "    .dataframe tbody tr th {\n",
              "        vertical-align: top;\n",
              "    }\n",
              "\n",
              "    .dataframe thead th {\n",
              "        text-align: right;\n",
              "    }\n",
              "</style>\n",
              "<table border=\"1\" class=\"dataframe\">\n",
              "  <thead>\n",
              "    <tr style=\"text-align: right;\">\n",
              "      <th></th>\n",
              "      <th>Prediction</th>\n",
              "    </tr>\n",
              "    <tr>\n",
              "      <th>CYP2D6 Star Allele</th>\n",
              "      <th></th>\n",
              "    </tr>\n",
              "  </thead>\n",
              "  <tbody>\n",
              "    <tr>\n",
              "      <th>*102</th>\n",
              "      <td>Decreased Function</td>\n",
              "    </tr>\n",
              "    <tr>\n",
              "      <th>*103</th>\n",
              "      <td>Normal Function</td>\n",
              "    </tr>\n",
              "    <tr>\n",
              "      <th>*104</th>\n",
              "      <td>No Function</td>\n",
              "    </tr>\n",
              "    <tr>\n",
              "      <th>*105</th>\n",
              "      <td>No Function</td>\n",
              "    </tr>\n",
              "    <tr>\n",
              "      <th>*106</th>\n",
              "      <td>Normal Function</td>\n",
              "    </tr>\n",
              "  </tbody>\n",
              "</table>\n",
              "</div>"
            ],
            "text/plain": [
              "                            Prediction\n",
              "CYP2D6 Star Allele                    \n",
              "*102                Decreased Function\n",
              "*103                   Normal Function\n",
              "*104                       No Function\n",
              "*105                       No Function\n",
              "*106                   Normal Function"
            ]
          },
          "metadata": {
            "tags": []
          },
          "execution_count": 110
        }
      ]
    },
    {
      "cell_type": "code",
      "metadata": {
        "colab": {
          "base_uri": "https://localhost:8080/",
          "height": 235
        },
        "id": "x97PTqrlGzh1",
        "outputId": "03e7637a-96c6-469d-f950-1779a4ad8c99"
      },
      "source": [
        "combined_predictions = df.join(my_pred)\n",
        "combined_predictions.head()"
      ],
      "execution_count": null,
      "outputs": [
        {
          "output_type": "execute_result",
          "data": {
            "text/html": [
              "<div>\n",
              "<style scoped>\n",
              "    .dataframe tbody tr th:only-of-type {\n",
              "        vertical-align: middle;\n",
              "    }\n",
              "\n",
              "    .dataframe tbody tr th {\n",
              "        vertical-align: top;\n",
              "    }\n",
              "\n",
              "    .dataframe thead th {\n",
              "        text-align: right;\n",
              "    }\n",
              "</style>\n",
              "<table border=\"1\" class=\"dataframe\">\n",
              "  <thead>\n",
              "    <tr style=\"text-align: right;\">\n",
              "      <th></th>\n",
              "      <th>Hubble Predicted Function</th>\n",
              "      <th>Prediction</th>\n",
              "    </tr>\n",
              "    <tr>\n",
              "      <th>CYP2D6 Star Allele</th>\n",
              "      <th></th>\n",
              "      <th></th>\n",
              "    </tr>\n",
              "  </thead>\n",
              "  <tbody>\n",
              "    <tr>\n",
              "      <th>*22</th>\n",
              "      <td>Decreased Function</td>\n",
              "      <td>No Function</td>\n",
              "    </tr>\n",
              "    <tr>\n",
              "      <th>*23</th>\n",
              "      <td>Normal Function</td>\n",
              "      <td>Normal Function</td>\n",
              "    </tr>\n",
              "    <tr>\n",
              "      <th>*24</th>\n",
              "      <td>Normal Function</td>\n",
              "      <td>Normal Function</td>\n",
              "    </tr>\n",
              "    <tr>\n",
              "      <th>*25</th>\n",
              "      <td>Normal Function</td>\n",
              "      <td>Normal Function</td>\n",
              "    </tr>\n",
              "    <tr>\n",
              "      <th>*26</th>\n",
              "      <td>Normal Function</td>\n",
              "      <td>Normal Function</td>\n",
              "    </tr>\n",
              "  </tbody>\n",
              "</table>\n",
              "</div>"
            ],
            "text/plain": [
              "                   Hubble Predicted Function       Prediction\n",
              "CYP2D6 Star Allele                                           \n",
              "*22                       Decreased Function      No Function\n",
              "*23                          Normal Function  Normal Function\n",
              "*24                          Normal Function  Normal Function\n",
              "*25                          Normal Function  Normal Function\n",
              "*26                          Normal Function  Normal Function"
            ]
          },
          "metadata": {
            "tags": []
          },
          "execution_count": 113
        }
      ]
    },
    {
      "cell_type": "code",
      "metadata": {
        "colab": {
          "base_uri": "https://localhost:8080/"
        },
        "id": "y1JzL_NPKRNm",
        "outputId": "9bc73520-2e88-4e5d-a408-3e3e5341d9b9"
      },
      "source": [
        "combined_predictions.value_counts()"
      ],
      "execution_count": null,
      "outputs": [
        {
          "output_type": "execute_result",
          "data": {
            "text/plain": [
              "Hubble Predicted Function  Prediction        \n",
              "Normal Function            Normal Function       21\n",
              "Decreased Function         Decreased Function    20\n",
              "                           Normal Function       13\n",
              "Normal Function            Decreased Function     9\n",
              "No Function                Decreased Function     4\n",
              "Decreased Function         No Function            3\n",
              "No Function                Normal Function        1\n",
              "dtype: int64"
            ]
          },
          "metadata": {
            "tags": []
          },
          "execution_count": 121
        }
      ]
    },
    {
      "cell_type": "code",
      "metadata": {
        "colab": {
          "base_uri": "https://localhost:8080/"
        },
        "id": "wzfk9t6ZIvFp",
        "outputId": "b6f9c8d1-5436-464a-cfa6-132cce347642"
      },
      "source": [
        "matching_mask = combined_predictions['Hubble Predicted Function'] == combined_predictions['Prediction']\n",
        "combined_predictions[matching_mask].shape[0] / combined_predictions.shape[0]"
      ],
      "execution_count": null,
      "outputs": [
        {
          "output_type": "execute_result",
          "data": {
            "text/plain": [
              "0.5774647887323944"
            ]
          },
          "metadata": {
            "tags": []
          },
          "execution_count": 114
        }
      ]
    },
    {
      "cell_type": "code",
      "metadata": {
        "colab": {
          "base_uri": "https://localhost:8080/",
          "height": 422
        },
        "id": "93XyxPiDJjAx",
        "outputId": "a6a15d02-b4b2-42dd-ece3-47b4e9d2f91c"
      },
      "source": [
        "fig = plt.figure(figsize=(7, 6))\n",
        "# sb.set_palette(sb.color_palette(\"Paired\"))\n",
        "ax = sb.countplot(x='Hubble Predicted Function', hue='Prediction', data=combined_predictions, order=['No Function', 'Decreased Function', 'Normal Function'], hue_order=['No Function', 'Decreased Function', 'Normal Function'])\n",
        "ax.set_xlabel(\"Uncurated Hubble.2D6 classifications\", fontsize=13, labelpad=12)\n",
        "ax.set_ylabel(\"Predictions per Hubble.2D6 classification\", fontsize=13, labelpad=12)\n",
        "plt.legend(title=\"My Implementation\")\n",
        "plt.ylim(0, 30)"
      ],
      "execution_count": null,
      "outputs": [
        {
          "output_type": "execute_result",
          "data": {
            "text/plain": [
              "(0.0, 30.0)"
            ]
          },
          "metadata": {
            "tags": []
          },
          "execution_count": 127
        },
        {
          "output_type": "display_data",
          "data": {
            "image/png": "[encoded data removed]",
            "text/plain": [
              "<Figure size 504x432 with 1 Axes>"
            ]
          },
          "metadata": {
            "tags": [],
            "needs_background": "light"
          }
        }
      ]
    },
    {
      "cell_type": "code",
      "metadata": {
        "colab": {
          "base_uri": "https://localhost:8080/",
          "height": 418
        },
        "id": "7JecQrpxKCbq",
        "outputId": "82e79566-5282-475b-b90b-2c4aa8f5f0f2"
      },
      "source": [
        "labels = ['Normal Function', 'Decreased Function', 'No Function']\n",
        "heatmap = build_heatmap(combined_predictions['Hubble Predicted Function'], combined_predictions['Prediction'], labels)\n",
        "fig = plt.figure(figsize=(7, 6))\n",
        "b = sb.heatmap(heatmap, cmap=\"Blues\", annot=heatmap, xticklabels=list(reversed(labels)), yticklabels=labels)\n",
        "b.set_xlabel(\"My Predictions\", fontsize=13, labelpad=12)\n",
        "b.set_ylabel(\"Hubble Predictions\", fontsize=13, labelpad=12)"
      ],
      "execution_count": null,
      "outputs": [
        {
          "output_type": "execute_result",
          "data": {
            "text/plain": [
              "Text(41.99999999999999, 0.5, 'Hubble Predictions')"
            ]
          },
          "metadata": {
            "tags": []
          },
          "execution_count": 126
        },
        {
          "output_type": "display_data",
          "data": {
            "image/png": "[encoded data removed]",
            "text/plain": [
              "<Figure size 504x432 with 2 Axes>"
            ]
          },
          "metadata": {
            "tags": [],
            "needs_background": "light"
          }
        }
      ]
    },
    {
      "cell_type": "markdown",
      "metadata": {
        "id": "acAa_uI_Kb35"
      },
      "source": [
        "Note, non-diagonal values are misclassified, with the \"correct\" label being the x axis label"
      ]
    }
  ]
}