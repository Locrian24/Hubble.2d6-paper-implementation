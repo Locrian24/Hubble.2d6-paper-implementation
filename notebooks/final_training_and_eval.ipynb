{
  "nbformat": 4,
  "nbformat_minor": 0,
  "metadata": {
    "colab": {
      "name": "FINAL COPY WITH SGD N HEATMAPS.ipynb",
      "provenance": []
    },
    "kernelspec": {
      "name": "python3",
      "display_name": "Python 3"
    },
    "language_info": {
      "name": "python"
    }
  },
  "cells": [
    {
      "cell_type": "markdown",
      "metadata": {
        "id": "XtqBu9p17D2j"
      },
      "source": [
        "# Training the final model\n",
        "\n",
        "This notebook is supplementary material to the project here, which aims to re-implement the Hubble.2d6 tool to predict the function of CYP2D6 star alleles.\n",
        "\n",
        "Within this notebook, the final model in the sequence outlined in the paper is trained using transfer learning. Weights from the first step are loaded into the new model. The fully-connected layers of the first model are replaced with new, randomly initialised layers and trained on 31 star alleles and their respective suballeles.\n",
        "\n",
        "Please keep in mind that this implementation is incomplete due to the lack of resources to compute robust annotation embeddings of all variants for all star alleles.\n",
        "\n",
        "Additionally, in the paper, this model is supposed to instead have its weights - along with weights of one of the fully-connected layers - loaded in from the second model in the sequence. However, due to data availability, I was unable to reproduce the implementation of the second model and instead chose to transfer just the convolution layers' weights to the final model from the first model that was trained on simulated data."
      ]
    },
    {
      "cell_type": "markdown",
      "metadata": {
        "id": "z8a-EgmE8R4T"
      },
      "source": [
        "## Getting ready\n",
        "\n",
        "**Acknowledgements**: Pre-computed annotation embeddings used are form the original Hubble.2d6 repo: https://github.com/gregmcinnes/Hubble2D6/tree/master/data"
      ]
    },
    {
      "cell_type": "code",
      "metadata": {
        "id": "kMaqb2OooOXz"
      },
      "source": [
        "import tensorflow as tf\n",
        "import pandas as pd\n",
        "import numpy as np\n",
        "from sklearn.model_selection import train_test_split"
      ],
      "execution_count": null,
      "outputs": []
    },
    {
      "cell_type": "code",
      "metadata": {
        "id": "dcVVyrq6uMF_"
      },
      "source": [
        "np.random.seed(1337)"
      ],
      "execution_count": null,
      "outputs": []
    },
    {
      "cell_type": "code",
      "metadata": {
        "colab": {
          "base_uri": "https://localhost:8080/"
        },
        "id": "IaZ5UF2MoTfj",
        "outputId": "cc9a1367-de59-464a-a179-f6e6da956de9"
      },
      "source": [
        "!git clone https://github.com/Locrian24/seng474-term-project.git\n",
        "!cd seng474-term-project/ && git pull"
      ],
      "execution_count": null,
      "outputs": [
        {
          "output_type": "stream",
          "text": [
            "fatal: destination path 'seng474-term-project' already exists and is not an empty directory.\n",
            "Already up to date.\n"
          ],
          "name": "stdout"
        }
      ]
    },
    {
      "cell_type": "code",
      "metadata": {
        "id": "0GWlFbEPofie"
      },
      "source": [
        "import sys\n",
        "sys.path.insert(0, '/content/seng474-term-project/model')"
      ],
      "execution_count": null,
      "outputs": []
    },
    {
      "cell_type": "markdown",
      "metadata": {
        "id": "cGj8AD838tOw"
      },
      "source": [
        "## Preparing the data\n",
        "\n",
        "The vcf file of the star alleles used were provided from the paper and can be found **here**. "
      ]
    },
    {
      "cell_type": "markdown",
      "metadata": {
        "id": "N78uh8bB819L"
      },
      "source": [
        "### Encoding method\n",
        "\n",
        "The script `build_label_csv.py` was run on this vcf file to output the label csv that will be used for training.\n",
        "\n",
        "Labels for the data correspond to the ordinal classes describing the function of each CYP2D6 star allele and their respective suballeles: \"No function\", \"Decreased function\", and \"Normal function\".\n",
        "\n",
        "The model however is required to output two scores, representing the probability of a star allele being \"No function\" and \"Normal function\" respectively, and therefore a binary scoring system is used to encode the 3 function classes into these two scores. \n",
        "\n",
        "The scoring system is as follows:\n",
        "- \"No function\" alleles are indicated with a 0 as the first score, with all other functions being denoted with a 1\n",
        "- \"Normal function\" alleles are indicated with a 1 as the second score, with all other functions being denoted with a 0.\n",
        "\n",
        "This yields the following encodings:\n",
        "- \"No function\" = `[0, 0]`\n",
        "- \"Decreased function\" = `[0, 1]`\n",
        "- \"Normal function\" = `[1, 1]`\n",
        "\n",
        "**Note**: Star alleles with uncurated function have an empty label (`[None, None]`). \n",
        "\n",
        "_Sequence encodings are done exactly the same as in step 1_"
      ]
    },
    {
      "cell_type": "code",
      "metadata": {
        "id": "laWNZhUIo2Bl"
      },
      "source": [
        "from encode_to_seq import Encode2Seq\n",
        "\n",
        "# Global variables rn for testing\n",
        "\n",
        "ANNOTATIONS = '/content/seng474-term-project/data/gvcf2seq.annotation_embeddings.csv'\n",
        "EMBEDDINGS = '/content/seng474-term-project/data/embeddings.txt'\n",
        "REF = '/content/seng474-term-project/data/ref.seq'\n",
        "\n",
        "VCF = '/content/seng474-term-project/step3/data/star_samples.vcf'\n",
        "LABELS = '/content/seng474-term-project/step3/data/labels.csv'\n",
        "\n",
        "encoding = Encode2Seq(vcf=VCF, labels=LABELS, label_cols=[0, 1, 2], embedding_file=EMBEDDINGS, annotation_file=ANNOTATIONS, ref_seq=REF)"
      ],
      "execution_count": null,
      "outputs": []
    },
    {
      "cell_type": "markdown",
      "metadata": {
        "id": "xFolDssq-wRu"
      },
      "source": [
        "### Seperation of data sets\n",
        "\n",
        "The paper indicates that they used 31 star alleles and their suballeles as training data, and 24 alleles to compose the test data. Additionally, 10% of the each functional class (\"No function\", \"Decreased function\", and \"Normal function\") were held out for validation during training.\n",
        "\n",
        "All star alleles with \"Uncurated function\" were ignored, and held from training/testing for obvious reasons."
      ]
    },
    {
      "cell_type": "code",
      "metadata": {
        "id": "cfQ9jyQMp_ca"
      },
      "source": [
        "# Select only star alleles with curated function\n",
        "\n",
        "mask = np.all(np.isnan(encoding.y) == False, axis=1)\n",
        "\n",
        "sample_y = encoding.y[mask]\n",
        "sample_X = encoding.X[mask.reshape(-1, 1).any(axis=1)]\n",
        "sample_names = encoding.sample_names[mask]"
      ],
      "execution_count": null,
      "outputs": []
    },
    {
      "cell_type": "code",
      "metadata": {
        "id": "fzIJzGV8s8G3"
      },
      "source": [
        "# Get valid stars\n",
        "all_stars = np.array([s.split('_')[1] for s in sample_names])\n",
        "stars, idx = np.unique(all_stars, return_index=True)\n",
        "\n",
        "# Choose which stars are training and which are test: (31, 24) split\n",
        "# Should be stratified with labels\n",
        "train_idx, test_idx = train_test_split(idx, stratify=sample_y[idx], test_size=24, random_state=0)\n",
        "\n",
        "# Retrieve indices of training and test stars\n",
        "sample_mask = np.isin(all_stars, all_stars[train_idx])\n",
        "\n",
        "test_stars = np.array([s for s in sample_names[~sample_mask] if s.split('_')[-1] == '001'])\n",
        "test_mask = np.isin(sample_names, test_stars)\n",
        "\n",
        "# Split the data into the two sets - INCLUDING SUBALLES ON BOTH\n",
        "# _train_X, test_X = sample_X[sample_mask], sample_X[~sample_mask]\n",
        "# _train_y, test_y = sample_y[sample_mask], sample_y[~sample_mask]\n",
        "\n",
        "_train_X, test_X = sample_X[sample_mask], sample_X[test_mask]\n",
        "_train_y, test_y = sample_y[sample_mask], sample_y[test_mask]\n",
        "\n",
        "# Split training into train + validation (10% split -> validation)\n",
        "train_X, val_X, train_y, val_y = train_test_split(_train_X, _train_y, stratify=_train_y, test_size=0.1, random_state=0)"
      ],
      "execution_count": null,
      "outputs": []
    },
    {
      "cell_type": "code",
      "metadata": {
        "id": "uAUG1QZQootJ"
      },
      "source": [
        "# Uncurated star alleles\n",
        "\n",
        "uncurated_samples = encoding.sample_names[~mask]\n",
        "uncurated_stars = np.array([s for s in uncurated_samples if s.split('_')[-1] == '001'])\n",
        "uncurated_star_mask = np.isin(uncurated_samples, uncurated_stars)\n",
        "\n",
        "# uncurated_X = encoding.X[uncurated_star_idx]\n",
        "# uncurated_samples = uncurated_samples[uncurated_star_idx]\n",
        "\n",
        "uncurated_samples = uncurated_samples[uncurated_star_mask]\n",
        "uncurated_X = encoding.X[(~mask).reshape(-1, 1).any(axis=1)]\n",
        "uncurated_X = uncurated_X[uncurated_star_mask]"
      ],
      "execution_count": null,
      "outputs": []
    },
    {
      "cell_type": "markdown",
      "metadata": {
        "id": "kpx-XJedAIRj"
      },
      "source": [
        "### Prepare data for the model"
      ]
    },
    {
      "cell_type": "code",
      "metadata": {
        "id": "ysEE5cl2AG6O"
      },
      "source": [
        "_train_ds = tf.data.Dataset.from_tensor_slices((train_X, train_y))\n",
        "train_ds = _train_ds.shuffle(train_X.shape[0]).batch(16).prefetch(buffer_size=10)\n",
        "\n",
        "_val_ds = tf.data.Dataset.from_tensors((val_X, val_y))\n",
        "val_ds = _val_ds.prefetch(buffer_size=10)\n",
        "\n",
        "_test_ds = tf.data.Dataset.from_tensors((test_X, test_y))\n",
        "test_ds = _test_ds.prefetch(buffer_size=10)"
      ],
      "execution_count": null,
      "outputs": []
    },
    {
      "cell_type": "markdown",
      "metadata": {
        "id": "mcKwYCgH6WN5"
      },
      "source": [
        "## Building the final model\n",
        "\n",
        "As stated earlier, the model is loaded from the generated model from step 1, and also inherits its learned weights."
      ]
    },
    {
      "cell_type": "code",
      "metadata": {
        "id": "tFFfrnMRMzDz"
      },
      "source": [
        "epochs = 32\n",
        "fine_tune_epochs = 8\n",
        "\n",
        "def build_and_fit(train_dataset, val_dataset):\n",
        "  json_file = open('/content/seng474-term-project/step_1/model.json', 'r')\n",
        "  loaded_model = json_file.read()\n",
        "  model = tf.keras.models.model_from_json(loaded_model)\n",
        "  model.load_weights('/content/seng474-term-project/step_1/weights.h5')\n",
        "  \n",
        "  # Remove fully connected layers\n",
        "  model.pop()\n",
        "  model.pop()\n",
        "  model.pop()\n",
        "  model.trainable = False\n",
        "\n",
        "  # Build final model\n",
        "  inputs = tf.keras.Input(shape=(14868, 13))\n",
        "  x = model(inputs, training=False)\n",
        "  x = tf.keras.layers.Dense(32, activation=tf.keras.activations.relu, kernel_initializer=tf.keras.initializers.VarianceScaling(mode='fan_avg', distribution='uniform'), name = \"dense_5\")(x)\n",
        "  x = tf.keras.layers.Dropout(rate=0.03, name=\"dropout_4\")(x)\n",
        "  x = tf.keras.layers.Dense(1, activation=tf.keras.activations.linear, kernel_initializer=tf.keras.initializers.VarianceScaling(mode='fan_avg', distribution='uniform'), name = \"dense_6\")(x)\n",
        "  outputs = tf.keras.layers.Dense(2, activation=tf.keras.activations.sigmoid, kernel_initializer=tf.keras.initializers.VarianceScaling(mode='fan_avg', distribution='uniform'), name = \"final_dense\")(x)\n",
        "  final_model = tf.keras.Model(inputs, outputs)\n",
        "\n",
        "  # Initial training\n",
        "  final_model.compile(\n",
        "      # optimizer=tf.keras.optimizers.RMSprop(0.1, momentum=0.8),\n",
        "    optimizer=tf.keras.optimizers.SGD(0.1, momentum=0.9, nesterov=True),\n",
        "    # optimizer=tf.keras.optimizers.Adam(0.01),\n",
        "    loss=tf.keras.losses.BinaryCrossentropy(),\n",
        "    metrics=[tf.keras.metrics.AUC()]\n",
        "  )\n",
        "\n",
        "  final_model.fit(train_dataset, epochs=epochs, validation_data=val_dataset, verbose=0)\n",
        "\n",
        "  # Fine tuning\n",
        "  model.trainable = True\n",
        "  final_model.compile(\n",
        "      # optimizer=tf.keras.optimizers.RMSprop(1e-5, momentum=0.8),\n",
        "      optimizer=tf.keras.optimizers.SGD(1e-5, momentum=0.9, nesterov=True),\n",
        "      # tf.keras.optimizers.Adam(1e-5),\n",
        "      loss=tf.keras.losses.BinaryCrossentropy(),\n",
        "      metrics=[tf.keras.metrics.AUC()]\n",
        "  )\n",
        "\n",
        "  final_model.fit(train_dataset, epochs=fine_tune_epochs, validation_data=val_dataset, verbose=0)\n",
        "  \n",
        "  return final_model"
      ],
      "execution_count": null,
      "outputs": []
    },
    {
      "cell_type": "markdown",
      "metadata": {
        "id": "rPINycCNcOV4"
      },
      "source": [
        "## Training ensemble models\n",
        "\n",
        "Hubble.2d6 uses an ensemble averaging method for it's final predictions. Here we are training 7 models to use in the ensemble, report the training accuracy of each and save these models for the final tool."
      ]
    },
    {
      "cell_type": "code",
      "metadata": {
        "id": "sF3D87O0a4On"
      },
      "source": [
        "ensemble_size = 7\n",
        "\n",
        "for i in range(ensemble_size):\n",
        "  break\n",
        "  model = build_and_fit(train_ds, val_ds)\n",
        "  model.evaluate(train_ds)\n",
        "  model.evaluate(val_ds)\n",
        "\n",
        "  # model.save(f'models/ensemble_{i}.model.h5')"
      ],
      "execution_count": null,
      "outputs": []
    },
    {
      "cell_type": "markdown",
      "metadata": {
        "id": "hffB4EkIlov8"
      },
      "source": [
        "Now that we have the ensemble models saved, we will use them for the final prediction."
      ]
    },
    {
      "cell_type": "markdown",
      "metadata": {
        "id": "kOyYP5sfr0b2"
      },
      "source": [
        "## Building the ensemble\n",
        "\n",
        "This step is identical to how the final implementation of this project builds the ensemble, with its purpose being here for evaluation purposes.\n",
        "\n",
        "**Note**: In development, this notebook was run and the weights are already saved for the final model"
      ]
    },
    {
      "cell_type": "code",
      "metadata": {
        "id": "4nJWnzprsGta"
      },
      "source": [
        "class Ensemble():\n",
        "  def __init__(self, X=None):\n",
        "    self.X = X\n",
        "    self.predictions = None\n",
        "\n",
        "    self.run()\n",
        "\n",
        "  def run(self):\n",
        "    predictions = self.predict(self.X).mean(axis=0)\n",
        "    self.predictions = self.get_functions(predictions)\n",
        "\n",
        "  def get_functions(self, pred):\n",
        "    cutpoint_1 = 0.4260022\n",
        "    cutpoint_2 = 0.7360413\n",
        "\n",
        "    cut1 = np.greater(pred[:, 0], [cutpoint_1])\n",
        "    cut2 = np.greater(pred[:, 1], [cutpoint_2])\n",
        "\n",
        "    functions = []\n",
        "    for i in range(pred.shape[0]):\n",
        "      if cut1[i] == True and cut2[i] == True:\n",
        "        functions.append(\"Normal\")\n",
        "      elif cut1[i] == True and cut2[i] == False:\n",
        "        functions.append(\"Decreased function\")\n",
        "      else:\n",
        "        functions.append(\"No function\")\n",
        "\n",
        "    return np.array(functions)\n",
        "\n",
        "  def evaluate(self, y):\n",
        "    labels = self.get_functions(y)\n",
        "    return np.sum(labels == self.predictions) / len(y)\n",
        "\n",
        "  def predict(self, X):\n",
        "    from glob import glob\n",
        "    dir = '/content/models/'\n",
        "    models = glob(dir + \"*.model.h5\")\n",
        "    \n",
        "    predictions = []\n",
        "    for m in models:\n",
        "      print(f\"Predicting using {m}\")\n",
        "      model = tf.keras.models.load_model(m)\n",
        "      \n",
        "      pred = model.predict(X)\n",
        "      predictions.append(pred)\n",
        "\n",
        "    return np.array(predictions)"
      ],
      "execution_count": null,
      "outputs": []
    },
    {
      "cell_type": "code",
      "metadata": {
        "id": "avqbzbc1-DCz",
        "colab": {
          "base_uri": "https://localhost:8080/"
        },
        "outputId": "d91c87a5-c809-4e5c-dba4-26baf53fe66c"
      },
      "source": [
        "# Training data\n",
        "\n",
        "train_ensemble = Ensemble(train_X)\n",
        "train_ensemble.evaluate(train_y)"
      ],
      "execution_count": null,
      "outputs": [
        {
          "output_type": "stream",
          "text": [
            "Predicting using /content/models/ensemble_4.model.h5\n",
            "Predicting using /content/models/ensemble_6.model.h5\n",
            "Predicting using /content/models/ensemble_0.model.h5\n",
            "Predicting using /content/models/ensemble_1.model.h5\n",
            "Predicting using /content/models/ensemble_2.model.h5\n",
            "Predicting using /content/models/ensemble_5.model.h5\n",
            "Predicting using /content/models/ensemble_3.model.h5\n"
          ],
          "name": "stdout"
        },
        {
          "output_type": "execute_result",
          "data": {
            "text/plain": [
              "0.9310344827586207"
            ]
          },
          "metadata": {
            "tags": []
          },
          "execution_count": 13
        }
      ]
    },
    {
      "cell_type": "code",
      "metadata": {
        "colab": {
          "base_uri": "https://localhost:8080/"
        },
        "id": "XAmr2mBXDSN3",
        "outputId": "41d2353c-1da4-490a-8405-30f78c003377"
      },
      "source": [
        "val_ensemble = Ensemble(val_X)\n",
        "val_ensemble.evaluate(val_y)"
      ],
      "execution_count": null,
      "outputs": [
        {
          "output_type": "stream",
          "text": [
            "Predicting using /content/models/ensemble_4.model.h5\n",
            "Predicting using /content/models/ensemble_6.model.h5\n",
            "WARNING:tensorflow:5 out of the last 14 calls to <function Model.make_predict_function.<locals>.predict_function at 0x7fb4909ec4d0> triggered tf.function retracing. Tracing is expensive and the excessive number of tracings could be due to (1) creating @tf.function repeatedly in a loop, (2) passing tensors with different shapes, (3) passing Python objects instead of tensors. For (1), please define your @tf.function outside of the loop. For (2), @tf.function has experimental_relax_shapes=True option that relaxes argument shapes that can avoid unnecessary retracing. For (3), please refer to https://www.tensorflow.org/guide/function#controlling_retracing and https://www.tensorflow.org/api_docs/python/tf/function for  more details.\n",
            "Predicting using /content/models/ensemble_0.model.h5\n",
            "WARNING:tensorflow:5 out of the last 11 calls to <function Model.make_predict_function.<locals>.predict_function at 0x7fb490be48c0> triggered tf.function retracing. Tracing is expensive and the excessive number of tracings could be due to (1) creating @tf.function repeatedly in a loop, (2) passing tensors with different shapes, (3) passing Python objects instead of tensors. For (1), please define your @tf.function outside of the loop. For (2), @tf.function has experimental_relax_shapes=True option that relaxes argument shapes that can avoid unnecessary retracing. For (3), please refer to https://www.tensorflow.org/guide/function#controlling_retracing and https://www.tensorflow.org/api_docs/python/tf/function for  more details.\n",
            "Predicting using /content/models/ensemble_1.model.h5\n",
            "Predicting using /content/models/ensemble_2.model.h5\n",
            "Predicting using /content/models/ensemble_5.model.h5\n",
            "Predicting using /content/models/ensemble_3.model.h5\n"
          ],
          "name": "stdout"
        },
        {
          "output_type": "execute_result",
          "data": {
            "text/plain": [
              "0.8461538461538461"
            ]
          },
          "metadata": {
            "tags": []
          },
          "execution_count": 14
        }
      ]
    },
    {
      "cell_type": "markdown",
      "metadata": {
        "id": "Bqxf8bBWCoVX"
      },
      "source": [
        "## Evaluation\n",
        "\n",
        "It is important to note that training data includes suballele annotation embeddings as well as their respective star alleles, whereas validation and test sets contain only star allele data as per the paper."
      ]
    },
    {
      "cell_type": "code",
      "metadata": {
        "id": "66zI9F4nDcmk"
      },
      "source": [
        "import seaborn as sb\n",
        "import matplotlib.pyplot as plt\n",
        "\n",
        "def build_heatmap(pred, y, labels):\n",
        "  heatmap = []\n",
        "  for label in labels:\n",
        "    mask = pred == label\n",
        "    masked_labels = y[mask]\n",
        "    heatmap.append([len(masked_labels[masked_labels == l]) for l in reversed(labels)])\n",
        "\n",
        "  return heatmap"
      ],
      "execution_count": null,
      "outputs": []
    },
    {
      "cell_type": "code",
      "metadata": {
        "id": "1f6YQoYIJZxX",
        "colab": {
          "base_uri": "https://localhost:8080/",
          "height": 423
        },
        "outputId": "466a958d-f799-4963-ec6a-a5d113e44f75"
      },
      "source": [
        "labels = [\"Normal\", \"Decreased function\", \"No function\"]\n",
        "\n",
        "train_labels = train_ensemble.get_functions(train_y)\n",
        "val_labels = val_ensemble.get_functions(val_y)\n",
        "\n",
        "train_heatmap = build_heatmap(train_ensemble.predictions, train_labels, labels)\n",
        "val_heatmap = build_heatmap(val_ensemble.predictions, val_labels, labels)\n",
        "\n",
        "fig, (ax1, ax2) = plt.subplots(1, 2, sharey=True)\n",
        "fig.set_size_inches(14, 6)\n",
        "\n",
        "sb.heatmap(train_heatmap, cmap=\"Blues\", annot=train_heatmap, xticklabels=list(reversed(labels)), yticklabels=labels, ax=ax1)\n",
        "sb.heatmap(val_heatmap, cmap=\"Blues\", annot=val_heatmap, xticklabels=list(reversed(labels)), yticklabels=labels, ax=ax2)\n",
        "\n",
        "ax1.set(xlabel=\"True function\", ylabel=\"Predicted function\", title=\"Training set\")\n",
        "ax2.set(xlabel=\"True function\", title=\"Test set\")"
      ],
      "execution_count": null,
      "outputs": [
        {
          "output_type": "execute_result",
          "data": {
            "text/plain": [
              "[Text(0.5, 33.0, 'True function'), Text(0.5, 1.0, 'Test set')]"
            ]
          },
          "metadata": {
            "tags": []
          },
          "execution_count": 16
        },
        {
          "output_type": "display_data",
          "data": {
            "image/png": "[encoded data removed]",
            "text/plain": [
              "<Figure size 1008x432 with 4 Axes>"
            ]
          },
          "metadata": {
            "tags": [],
            "needs_background": "light"
          }
        }
      ]
    },
    {
      "cell_type": "code",
      "metadata": {
        "id": "vLKA0kO7K4Ao",
        "colab": {
          "base_uri": "https://localhost:8080/",
          "height": 421
        },
        "outputId": "19119a78-3242-4532-c6eb-7374e5ddcd1b"
      },
      "source": [
        "test_ensemble = Ensemble(test_X)\n",
        "test_labels = test_ensemble.get_functions(test_y)\n",
        "test_heatmap = build_heatmap(test_ensemble.predictions, test_labels, labels)\n",
        "sb.heatmap(test_heatmap, cmap=\"Blues\", annot=test_heatmap, xticklabels=list(reversed(labels)), yticklabels=labels)"
      ],
      "execution_count": null,
      "outputs": [
        {
          "output_type": "stream",
          "text": [
            "Predicting using /content/models/ensemble_4.model.h5\n",
            "Predicting using /content/models/ensemble_6.model.h5\n",
            "Predicting using /content/models/ensemble_0.model.h5\n",
            "Predicting using /content/models/ensemble_1.model.h5\n",
            "Predicting using /content/models/ensemble_2.model.h5\n",
            "Predicting using /content/models/ensemble_5.model.h5\n",
            "Predicting using /content/models/ensemble_3.model.h5\n"
          ],
          "name": "stdout"
        },
        {
          "output_type": "execute_result",
          "data": {
            "text/plain": [
              "<matplotlib.axes._subplots.AxesSubplot at 0x7fb488763610>"
            ]
          },
          "metadata": {
            "tags": []
          },
          "execution_count": 22
        },
        {
          "output_type": "display_data",
          "data": {
            "image/png": "[encoded data removed]",
            "text/plain": [
              "<Figure size 432x288 with 2 Axes>"
            ]
          },
          "metadata": {
            "tags": [],
            "needs_background": "light"
          }
        }
      ]
    },
    {
      "cell_type": "code",
      "metadata": {
        "colab": {
          "base_uri": "https://localhost:8080/"
        },
        "id": "oWDPjOg9HCfh",
        "outputId": "747e3d7f-80ee-4b1b-a15d-a094501b8a30"
      },
      "source": [
        "test_ensemble.evaluate(test_y)"
      ],
      "execution_count": null,
      "outputs": [
        {
          "output_type": "execute_result",
          "data": {
            "text/plain": [
              "0.7916666666666666"
            ]
          },
          "metadata": {
            "tags": []
          },
          "execution_count": 23
        }
      ]
    }
  ]
}